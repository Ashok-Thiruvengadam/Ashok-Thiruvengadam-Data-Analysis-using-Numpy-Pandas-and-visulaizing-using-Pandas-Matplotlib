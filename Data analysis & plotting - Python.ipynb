{
 "cells": [
  {
   "cell_type": "code",
   "execution_count": 10,
   "metadata": {
    "jupyter": {
     "source_hidden": true
    },
    "scrolled": true
   },
   "outputs": [
    {
     "name": "stdout",
     "output_type": "stream",
     "text": [
      "\n",
      "For section 1: You need to write your code in order to regenerate the exact result as shown under each question\n",
      "For section 2: You need to generate the answers based on the questions without having the sample results.\n",
      "\n",
      "\n"
     ]
    }
   ],
   "source": [
    "\"\"\"\n",
    "For section 1: You need to write your code in order to regenerate the exact result as shown under each question\n",
    "For section 2: You need to generate the answers based on the questions without having the sample results.\n",
    "\n",
    "\"\"\"\n",
    "\n",
    "print(__doc__)"
   ]
  },
  {
   "cell_type": "markdown",
   "metadata": {},
   "source": [
    "# Section 1"
   ]
  },
  {
   "cell_type": "markdown",
   "metadata": {},
   "source": [
    "### Note\n",
    "* Instructions have been included for each segment. You do not have to follow them exactly, but they are included to help you think through the steps."
   ]
  },
  {
   "cell_type": "code",
   "execution_count": 4,
   "metadata": {},
   "outputs": [
    {
     "data": {
      "text/html": [
       "<div>\n",
       "<style scoped>\n",
       "    .dataframe tbody tr th:only-of-type {\n",
       "        vertical-align: middle;\n",
       "    }\n",
       "\n",
       "    .dataframe tbody tr th {\n",
       "        vertical-align: top;\n",
       "    }\n",
       "\n",
       "    .dataframe thead th {\n",
       "        text-align: right;\n",
       "    }\n",
       "</style>\n",
       "<table border=\"1\" class=\"dataframe\">\n",
       "  <thead>\n",
       "    <tr style=\"text-align: right;\">\n",
       "      <th></th>\n",
       "      <th>Purchase ID</th>\n",
       "      <th>SN</th>\n",
       "      <th>Age</th>\n",
       "      <th>Gender</th>\n",
       "      <th>Item ID</th>\n",
       "      <th>Item Name</th>\n",
       "      <th>Price</th>\n",
       "    </tr>\n",
       "  </thead>\n",
       "  <tbody>\n",
       "    <tr>\n",
       "      <th>0</th>\n",
       "      <td>0</td>\n",
       "      <td>Lisim78</td>\n",
       "      <td>20</td>\n",
       "      <td>Male</td>\n",
       "      <td>108</td>\n",
       "      <td>Extraction, Quickblade Of Trembling Hands</td>\n",
       "      <td>3.53</td>\n",
       "    </tr>\n",
       "    <tr>\n",
       "      <th>1</th>\n",
       "      <td>1</td>\n",
       "      <td>Lisovynya38</td>\n",
       "      <td>40</td>\n",
       "      <td>Male</td>\n",
       "      <td>143</td>\n",
       "      <td>Frenzied Scimitar</td>\n",
       "      <td>1.56</td>\n",
       "    </tr>\n",
       "    <tr>\n",
       "      <th>2</th>\n",
       "      <td>2</td>\n",
       "      <td>Ithergue48</td>\n",
       "      <td>24</td>\n",
       "      <td>Male</td>\n",
       "      <td>92</td>\n",
       "      <td>Final Critic</td>\n",
       "      <td>4.88</td>\n",
       "    </tr>\n",
       "    <tr>\n",
       "      <th>3</th>\n",
       "      <td>3</td>\n",
       "      <td>Chamassasya86</td>\n",
       "      <td>24</td>\n",
       "      <td>Male</td>\n",
       "      <td>100</td>\n",
       "      <td>Blindscythe</td>\n",
       "      <td>3.27</td>\n",
       "    </tr>\n",
       "    <tr>\n",
       "      <th>4</th>\n",
       "      <td>4</td>\n",
       "      <td>Iskosia90</td>\n",
       "      <td>23</td>\n",
       "      <td>Male</td>\n",
       "      <td>131</td>\n",
       "      <td>Fury</td>\n",
       "      <td>1.44</td>\n",
       "    </tr>\n",
       "  </tbody>\n",
       "</table>\n",
       "</div>"
      ],
      "text/plain": [
       "   Purchase ID             SN  Age Gender  Item ID  \\\n",
       "0            0        Lisim78   20   Male      108   \n",
       "1            1    Lisovynya38   40   Male      143   \n",
       "2            2     Ithergue48   24   Male       92   \n",
       "3            3  Chamassasya86   24   Male      100   \n",
       "4            4      Iskosia90   23   Male      131   \n",
       "\n",
       "                                   Item Name  Price  \n",
       "0  Extraction, Quickblade Of Trembling Hands   3.53  \n",
       "1                          Frenzied Scimitar   1.56  \n",
       "2                               Final Critic   4.88  \n",
       "3                                Blindscythe   3.27  \n",
       "4                                       Fury   1.44  "
      ]
     },
     "execution_count": 4,
     "metadata": {},
     "output_type": "execute_result"
    }
   ],
   "source": [
    "# Dependencies and Setup\n",
    "import pandas as pd\n",
    "import numpy as np\n",
    "\n",
    "# File to Load (Remember to Change These)\n",
    "file_to_load = \"purchase_data.csv\"\n",
    "\n",
    "# Read Purchasing File and store into Pandas data frame\n",
    "purchase_data = pd.read_csv('/Users/ashok/Downloads/purchase_data.csv')\n",
    "\n",
    "purchase_data.head()"
   ]
  },
  {
   "cell_type": "markdown",
   "metadata": {},
   "source": [
    "### Q1 - check for missing data"
   ]
  },
  {
   "cell_type": "code",
   "execution_count": 15,
   "metadata": {},
   "outputs": [
    {
     "data": {
      "text/plain": [
       "Purchase ID    0\n",
       "SN             0\n",
       "Age            0\n",
       "Gender         0\n",
       "Item ID        0\n",
       "Item Name      0\n",
       "Price          0\n",
       "dtype: int64"
      ]
     },
     "execution_count": 15,
     "metadata": {},
     "output_type": "execute_result"
    }
   ],
   "source": [
    "purchase_data.isna().sum()"
   ]
  },
  {
   "cell_type": "markdown",
   "metadata": {},
   "source": [
    "## Player Count"
   ]
  },
  {
   "cell_type": "markdown",
   "metadata": {},
   "source": [
    "### Q2 - Display the total number of players\n"
   ]
  },
  {
   "cell_type": "code",
   "execution_count": 61,
   "metadata": {},
   "outputs": [
    {
     "data": {
      "text/plain": [
       "SN    576\n",
       "dtype: int64"
      ]
     },
     "execution_count": 61,
     "metadata": {},
     "output_type": "execute_result"
    }
   ],
   "source": [
    "purchase_data_tot_players = purchase_data.agg({\"SN\": \"nunique\"})\n",
    "purchase_data_tot_players"
   ]
  },
  {
   "cell_type": "markdown",
   "metadata": {},
   "source": [
    "### Q3- Purchasing Analysis (Total)"
   ]
  },
  {
   "cell_type": "markdown",
   "metadata": {},
   "source": [
    "* Obtain number of unique items, average price, etc.\n",
    "\n",
    "\n",
    "* Create a summary data frame to hold the results\n",
    "\n",
    "\n",
    "* Optional: give the displayed data cleaner formatting\n",
    "\n",
    "\n",
    "* Display the summary data frame\n"
   ]
  },
  {
   "cell_type": "code",
   "execution_count": 64,
   "metadata": {},
   "outputs": [
    {
     "data": {
      "text/html": [
       "<div>\n",
       "<style scoped>\n",
       "    .dataframe tbody tr th:only-of-type {\n",
       "        vertical-align: middle;\n",
       "    }\n",
       "\n",
       "    .dataframe tbody tr th {\n",
       "        vertical-align: top;\n",
       "    }\n",
       "\n",
       "    .dataframe thead th {\n",
       "        text-align: right;\n",
       "    }\n",
       "</style>\n",
       "<table border=\"1\" class=\"dataframe\">\n",
       "  <thead>\n",
       "    <tr style=\"text-align: right;\">\n",
       "      <th></th>\n",
       "      <th>0</th>\n",
       "    </tr>\n",
       "  </thead>\n",
       "  <tbody>\n",
       "    <tr>\n",
       "      <th>Item ID</th>\n",
       "      <td>183.000000</td>\n",
       "    </tr>\n",
       "    <tr>\n",
       "      <th>Price</th>\n",
       "      <td>3.050987</td>\n",
       "    </tr>\n",
       "    <tr>\n",
       "      <th>Age</th>\n",
       "      <td>22.714103</td>\n",
       "    </tr>\n",
       "    <tr>\n",
       "      <th>Purchase ID</th>\n",
       "      <td>780.000000</td>\n",
       "    </tr>\n",
       "    <tr>\n",
       "      <th>Price</th>\n",
       "      <td>2379.770000</td>\n",
       "    </tr>\n",
       "  </tbody>\n",
       "</table>\n",
       "</div>"
      ],
      "text/plain": [
       "                       0\n",
       "Item ID       183.000000\n",
       "Price           3.050987\n",
       "Age            22.714103\n",
       "Purchase ID   780.000000\n",
       "Price        2379.770000"
      ]
     },
     "execution_count": 64,
     "metadata": {},
     "output_type": "execute_result"
    }
   ],
   "source": [
    "summary_df = pd.DataFrame()\n",
    "item_count = purchase_data.agg({\"Item ID\": \"nunique\"})\n",
    "average_price = purchase_data.agg({\"Price\": \"mean\"})\n",
    "average_age=purchase_data.agg({'Age':\"mean\"})\n",
    "total_purchases = purchase_data.agg({\"Purchase ID\": \"nunique\"})\n",
    "total_revenue = purchase_data.agg({\"Price\" : \"sum\"})\n",
    "\n",
    "type(item_count)\n",
    "summary_df = pd.concat([item_count,average_price,average_age,total_purchases,total_revenue])\n",
    "\n",
    "\n",
    "summary_df = pd.DataFrame(summary_df)\n",
    "\n",
    "summary_df "
   ]
  },
  {
   "cell_type": "code",
   "execution_count": 65,
   "metadata": {
    "scrolled": true
   },
   "outputs": [
    {
     "data": {
      "text/html": [
       "<div>\n",
       "<style scoped>\n",
       "    .dataframe tbody tr th:only-of-type {\n",
       "        vertical-align: middle;\n",
       "    }\n",
       "\n",
       "    .dataframe tbody tr th {\n",
       "        vertical-align: top;\n",
       "    }\n",
       "\n",
       "    .dataframe thead th {\n",
       "        text-align: right;\n",
       "    }\n",
       "</style>\n",
       "<table border=\"1\" class=\"dataframe\">\n",
       "  <thead>\n",
       "    <tr style=\"text-align: right;\">\n",
       "      <th></th>\n",
       "      <th>0</th>\n",
       "    </tr>\n",
       "  </thead>\n",
       "  <tbody>\n",
       "    <tr>\n",
       "      <th>Unique items</th>\n",
       "      <td>183.000000</td>\n",
       "    </tr>\n",
       "    <tr>\n",
       "      <th>Total Revenue</th>\n",
       "      <td>3.050987</td>\n",
       "    </tr>\n",
       "    <tr>\n",
       "      <th>Average Age</th>\n",
       "      <td>22.714103</td>\n",
       "    </tr>\n",
       "    <tr>\n",
       "      <th>Total Purchases</th>\n",
       "      <td>780.000000</td>\n",
       "    </tr>\n",
       "    <tr>\n",
       "      <th>Total Revenue</th>\n",
       "      <td>2379.770000</td>\n",
       "    </tr>\n",
       "  </tbody>\n",
       "</table>\n",
       "</div>"
      ],
      "text/plain": [
       "                           0\n",
       "Unique items      183.000000\n",
       "Total Revenue       3.050987\n",
       "Average Age        22.714103\n",
       "Total Purchases   780.000000\n",
       "Total Revenue    2379.770000"
      ]
     },
     "execution_count": 65,
     "metadata": {},
     "output_type": "execute_result"
    }
   ],
   "source": [
    "clean_summary_df = summary_df.rename(index={'Item ID': 'Unique items', \n",
    "                                     'Price':'Average Price',\n",
    "                                     'Age':'Average Age',\n",
    "                                     'Purchase ID': 'Total Purchases',\n",
    "                                     'Price': 'Total Revenue'})\n",
    "clean_summary_df"
   ]
  },
  {
   "cell_type": "markdown",
   "metadata": {},
   "source": [
    "### Q4- Gender Demographics"
   ]
  },
  {
   "cell_type": "markdown",
   "metadata": {},
   "source": [
    "* Percentage and Count of Male Players\n",
    "\n",
    "\n",
    "* Percentage and Count of Female Players\n",
    "\n",
    "\n",
    "* Percentage and Count of Other / Non-Disclosed\n",
    "\n",
    "\n"
   ]
  },
  {
   "cell_type": "code",
   "execution_count": 82,
   "metadata": {},
   "outputs": [
    {
     "data": {
      "text/html": [
       "<div>\n",
       "<style scoped>\n",
       "    .dataframe tbody tr th:only-of-type {\n",
       "        vertical-align: middle;\n",
       "    }\n",
       "\n",
       "    .dataframe tbody tr th {\n",
       "        vertical-align: top;\n",
       "    }\n",
       "\n",
       "    .dataframe thead th {\n",
       "        text-align: right;\n",
       "    }\n",
       "</style>\n",
       "<table border=\"1\" class=\"dataframe\">\n",
       "  <thead>\n",
       "    <tr style=\"text-align: right;\">\n",
       "      <th></th>\n",
       "      <th>Gender Count</th>\n",
       "      <th>Gender Percentage</th>\n",
       "    </tr>\n",
       "  </thead>\n",
       "  <tbody>\n",
       "    <tr>\n",
       "      <th>Male</th>\n",
       "      <td>652</td>\n",
       "      <td>83.589744</td>\n",
       "    </tr>\n",
       "    <tr>\n",
       "      <th>Female</th>\n",
       "      <td>113</td>\n",
       "      <td>14.487179</td>\n",
       "    </tr>\n",
       "    <tr>\n",
       "      <th>Other / Non-Disclosed</th>\n",
       "      <td>15</td>\n",
       "      <td>1.923077</td>\n",
       "    </tr>\n",
       "  </tbody>\n",
       "</table>\n",
       "</div>"
      ],
      "text/plain": [
       "                       Gender Count  Gender Percentage\n",
       "Male                            652          83.589744\n",
       "Female                          113          14.487179\n",
       "Other / Non-Disclosed            15           1.923077"
      ]
     },
     "execution_count": 82,
     "metadata": {},
     "output_type": "execute_result"
    }
   ],
   "source": [
    "from pandas.core.reshape.concat import concat\n",
    "gender=purchase_data['Gender'].value_counts()\n",
    "total=len(purchase_data)\n",
    "gender_demo=pd.DataFrame()\n",
    "gender_demo['Gender Count']=gender\n",
    "gender_demo['Gender Percentage']=(gender/total)*100\n",
    "gender_demo"
   ]
  },
  {
   "cell_type": "markdown",
   "metadata": {},
   "source": [
    "\n",
    "### Q5-Purchasing Analysis (Gender)"
   ]
  },
  {
   "cell_type": "markdown",
   "metadata": {},
   "source": [
    "* Run basic calculations to obtain purchase count, avg. purchase price, avg. purchase total per person etc. by gender\n",
    "\n",
    "\n",
    "\n",
    "\n",
    "* Create a summary data frame to hold the results\n",
    "\n",
    "\n",
    "* Optional: give the displayed data cleaner formatting\n",
    "\n",
    "\n"
   ]
  },
  {
   "cell_type": "code",
   "execution_count": 83,
   "metadata": {},
   "outputs": [
    {
     "data": {
      "text/html": [
       "<div>\n",
       "<style scoped>\n",
       "    .dataframe tbody tr th:only-of-type {\n",
       "        vertical-align: middle;\n",
       "    }\n",
       "\n",
       "    .dataframe tbody tr th {\n",
       "        vertical-align: top;\n",
       "    }\n",
       "\n",
       "    .dataframe thead th {\n",
       "        text-align: right;\n",
       "    }\n",
       "</style>\n",
       "<table border=\"1\" class=\"dataframe\">\n",
       "  <thead>\n",
       "    <tr style=\"text-align: right;\">\n",
       "      <th></th>\n",
       "      <th>Count</th>\n",
       "      <th>Average Price</th>\n",
       "      <th>Average total per person</th>\n",
       "    </tr>\n",
       "    <tr>\n",
       "      <th>Gender</th>\n",
       "      <th></th>\n",
       "      <th></th>\n",
       "      <th></th>\n",
       "    </tr>\n",
       "  </thead>\n",
       "  <tbody>\n",
       "    <tr>\n",
       "      <th>Female</th>\n",
       "      <td>113</td>\n",
       "      <td>361.94</td>\n",
       "      <td>3.203009</td>\n",
       "    </tr>\n",
       "    <tr>\n",
       "      <th>Male</th>\n",
       "      <td>652</td>\n",
       "      <td>1967.64</td>\n",
       "      <td>3.017853</td>\n",
       "    </tr>\n",
       "    <tr>\n",
       "      <th>Other / Non-Disclosed</th>\n",
       "      <td>15</td>\n",
       "      <td>50.19</td>\n",
       "      <td>3.346000</td>\n",
       "    </tr>\n",
       "  </tbody>\n",
       "</table>\n",
       "</div>"
      ],
      "text/plain": [
       "                       Count  Average Price  Average total per person\n",
       "Gender                                                               \n",
       "Female                   113         361.94                  3.203009\n",
       "Male                     652        1967.64                  3.017853\n",
       "Other / Non-Disclosed     15          50.19                  3.346000"
      ]
     },
     "execution_count": 83,
     "metadata": {},
     "output_type": "execute_result"
    }
   ],
   "source": [
    "gen_purchase = purchase_data.groupby(['Gender']).agg({'Purchase ID': 'nunique','Price': 'sum'})\n",
    "gen_purchase.rename(columns = {'Purchase ID':'Count','Price': 'Average Price'}, inplace = True)\n",
    "gen_purchase['Average total per person'] = gen_purchase['Average Price']/gen_purchase['Count']\n",
    "gen_purchase"
   ]
  },
  {
   "cell_type": "markdown",
   "metadata": {},
   "source": [
    "#### Q6-Display the summary data frame"
   ]
  },
  {
   "cell_type": "code",
   "execution_count": 78,
   "metadata": {},
   "outputs": [
    {
     "data": {
      "text/html": [
       "<div>\n",
       "<style scoped>\n",
       "    .dataframe tbody tr th:only-of-type {\n",
       "        vertical-align: middle;\n",
       "    }\n",
       "\n",
       "    .dataframe tbody tr th {\n",
       "        vertical-align: top;\n",
       "    }\n",
       "\n",
       "    .dataframe thead th {\n",
       "        text-align: right;\n",
       "    }\n",
       "</style>\n",
       "<table border=\"1\" class=\"dataframe\">\n",
       "  <thead>\n",
       "    <tr style=\"text-align: right;\">\n",
       "      <th></th>\n",
       "      <th>Purchase ID</th>\n",
       "      <th>Price Average</th>\n",
       "      <th>Total Purchase</th>\n",
       "      <th>No of players</th>\n",
       "    </tr>\n",
       "    <tr>\n",
       "      <th>Gender</th>\n",
       "      <th></th>\n",
       "      <th></th>\n",
       "      <th></th>\n",
       "      <th></th>\n",
       "    </tr>\n",
       "  </thead>\n",
       "  <tbody>\n",
       "    <tr>\n",
       "      <th>Female</th>\n",
       "      <td>113</td>\n",
       "      <td>3.203009</td>\n",
       "      <td>361.94</td>\n",
       "      <td>81</td>\n",
       "    </tr>\n",
       "    <tr>\n",
       "      <th>Male</th>\n",
       "      <td>652</td>\n",
       "      <td>3.017853</td>\n",
       "      <td>1967.64</td>\n",
       "      <td>484</td>\n",
       "    </tr>\n",
       "    <tr>\n",
       "      <th>Other / Non-Disclosed</th>\n",
       "      <td>15</td>\n",
       "      <td>3.346000</td>\n",
       "      <td>50.19</td>\n",
       "      <td>11</td>\n",
       "    </tr>\n",
       "  </tbody>\n",
       "</table>\n",
       "</div>"
      ],
      "text/plain": [
       "                       Purchase ID  Price Average  Total Purchase  \\\n",
       "Gender                                                              \n",
       "Female                         113       3.203009          361.94   \n",
       "Male                           652       3.017853         1967.64   \n",
       "Other / Non-Disclosed           15       3.346000           50.19   \n",
       "\n",
       "                       No of players  \n",
       "Gender                                \n",
       "Female                            81  \n",
       "Male                             484  \n",
       "Other / Non-Disclosed             11  "
      ]
     },
     "execution_count": 78,
     "metadata": {},
     "output_type": "execute_result"
    }
   ],
   "source": [
    "gender['Gender']=purchase_data['Gender'].value_counts()\n",
    "total=len(purchase_data)\n",
    "Summary=pd.DataFrame()\n",
    "Summary['Gender Percentage']=(gender/total)*100\n",
    "Summary=purchase_data.groupby(['Gender']).agg({'Purchase ID':'nunique'})\n",
    "Summary['Price Average']=purchase_data.groupby('Gender')['Price'].mean()\n",
    "Summary['Total Purchase']=purchase_data.groupby('Gender')['Price'].sum()\n",
    "Summary['No of players']=purchase_data.groupby(['Gender']).agg({'SN':'nunique'})\n",
    "Summary"
   ]
  },
  {
   "cell_type": "markdown",
   "metadata": {},
   "source": [
    "### Q7- Age Demographics"
   ]
  },
  {
   "cell_type": "markdown",
   "metadata": {},
   "source": [
    "* Establish bins for ages\n",
    "\n",
    "\n",
    "* Categorize the existing players using the age bins. Hint: use pd.cut()\n",
    "\n",
    "\n",
    "* Calculate the numbers and percentages by age group\n",
    "\n",
    "\n",
    "* Create a summary data frame to hold the results\n",
    "\n",
    "\n",
    "* Optional: round the percentage column to two decimal points\n",
    "\n",
    "\n",
    "* Display Age Demographics Table\n"
   ]
  },
  {
   "cell_type": "code",
   "execution_count": 79,
   "metadata": {},
   "outputs": [
    {
     "data": {
      "text/html": [
       "<div>\n",
       "<style scoped>\n",
       "    .dataframe tbody tr th:only-of-type {\n",
       "        vertical-align: middle;\n",
       "    }\n",
       "\n",
       "    .dataframe tbody tr th {\n",
       "        vertical-align: top;\n",
       "    }\n",
       "\n",
       "    .dataframe thead th {\n",
       "        text-align: right;\n",
       "    }\n",
       "</style>\n",
       "<table border=\"1\" class=\"dataframe\">\n",
       "  <thead>\n",
       "    <tr style=\"text-align: right;\">\n",
       "      <th></th>\n",
       "      <th>Total_Count</th>\n",
       "      <th>Percentage of Players</th>\n",
       "    </tr>\n",
       "    <tr>\n",
       "      <th>age_group</th>\n",
       "      <th></th>\n",
       "      <th></th>\n",
       "    </tr>\n",
       "  </thead>\n",
       "  <tbody>\n",
       "    <tr>\n",
       "      <th>10-14</th>\n",
       "      <td>22</td>\n",
       "      <td>3.82</td>\n",
       "    </tr>\n",
       "    <tr>\n",
       "      <th>15-19</th>\n",
       "      <td>107</td>\n",
       "      <td>18.58</td>\n",
       "    </tr>\n",
       "    <tr>\n",
       "      <th>20-24</th>\n",
       "      <td>258</td>\n",
       "      <td>44.79</td>\n",
       "    </tr>\n",
       "    <tr>\n",
       "      <th>25-29</th>\n",
       "      <td>77</td>\n",
       "      <td>13.37</td>\n",
       "    </tr>\n",
       "    <tr>\n",
       "      <th>30-34</th>\n",
       "      <td>52</td>\n",
       "      <td>9.03</td>\n",
       "    </tr>\n",
       "    <tr>\n",
       "      <th>35-39</th>\n",
       "      <td>31</td>\n",
       "      <td>5.38</td>\n",
       "    </tr>\n",
       "    <tr>\n",
       "      <th>40+</th>\n",
       "      <td>12</td>\n",
       "      <td>2.08</td>\n",
       "    </tr>\n",
       "    <tr>\n",
       "      <th>&lt;10</th>\n",
       "      <td>17</td>\n",
       "      <td>2.95</td>\n",
       "    </tr>\n",
       "  </tbody>\n",
       "</table>\n",
       "</div>"
      ],
      "text/plain": [
       "           Total_Count  Percentage of Players\n",
       "age_group                                    \n",
       "10-14               22                   3.82\n",
       "15-19              107                  18.58\n",
       "20-24              258                  44.79\n",
       "25-29               77                  13.37\n",
       "30-34               52                   9.03\n",
       "35-39               31                   5.38\n",
       "40+                 12                   2.08\n",
       "<10                 17                   2.95"
      ]
     },
     "execution_count": 79,
     "metadata": {},
     "output_type": "execute_result"
    }
   ],
   "source": [
    "age_grp = [ purchase_data['Age'] < 10 , \n",
    "             ((purchase_data['Age'] >= 10) & (purchase_data['Age'] <= 14)),\n",
    "            ((purchase_data['Age'] >= 15) & (purchase_data['Age'] <= 19 )),\n",
    "            ((purchase_data['Age'] >= 20) & (purchase_data['Age'] <=24)),\n",
    "            ((purchase_data['Age'] >= 25) & (purchase_data['Age'] <=29)),\n",
    "             ((purchase_data['Age'] >= 30) & (purchase_data['Age'] <=34)),\n",
    "             ((purchase_data['Age'] >= 35) & (purchase_data['Age'] <=39)),\n",
    "             ((purchase_data['Age'] >= 40))]\n",
    "              \n",
    "age_catg = ['<10','10-14','15-19','20-24','25-29','30-34','35-39','40+']\n",
    "              \n",
    "purchase_data['age_group'] = np.select(age_grp, age_catg)\n",
    "\n",
    "age_summary = purchase_data.groupby(['age_group']).agg(Total_Count=('SN','nunique'))\n",
    "age_summary['Percentage of Players']= (age_summary['Total_Count']/sum(age_summary['Total_Count'])*100).round(2)\n",
    "age_summary"
   ]
  },
  {
   "cell_type": "markdown",
   "metadata": {},
   "source": [
    "### Q8- Purchasing Analysis (Age)"
   ]
  },
  {
   "cell_type": "markdown",
   "metadata": {},
   "source": [
    "* Bin the purchase_data data frame by age\n",
    "\n",
    "\n",
    "* Run basic calculations to obtain purchase count, avg. purchase price, avg. purchase total per person etc. in the table below\n",
    "\n",
    "\n",
    "* Create a summary data frame to hold the results\n",
    "\n",
    "\n",
    "* Optional: give the displayed data cleaner formatting\n",
    "\n",
    "\n",
    "* Display the summary data frame"
   ]
  },
  {
   "cell_type": "code",
   "execution_count": 80,
   "metadata": {},
   "outputs": [
    {
     "data": {
      "text/html": [
       "<div>\n",
       "<style scoped>\n",
       "    .dataframe tbody tr th:only-of-type {\n",
       "        vertical-align: middle;\n",
       "    }\n",
       "\n",
       "    .dataframe tbody tr th {\n",
       "        vertical-align: top;\n",
       "    }\n",
       "\n",
       "    .dataframe thead th {\n",
       "        text-align: right;\n",
       "    }\n",
       "</style>\n",
       "<table border=\"1\" class=\"dataframe\">\n",
       "  <thead>\n",
       "    <tr style=\"text-align: right;\">\n",
       "      <th></th>\n",
       "      <th>Purchase_Count</th>\n",
       "      <th>Average_Purchase_Price</th>\n",
       "      <th>Total_Purchase_Value</th>\n",
       "    </tr>\n",
       "    <tr>\n",
       "      <th>age_group</th>\n",
       "      <th></th>\n",
       "      <th></th>\n",
       "      <th></th>\n",
       "    </tr>\n",
       "  </thead>\n",
       "  <tbody>\n",
       "    <tr>\n",
       "      <th>10-14</th>\n",
       "      <td>28</td>\n",
       "      <td>$2.96</td>\n",
       "      <td>$82.78</td>\n",
       "    </tr>\n",
       "    <tr>\n",
       "      <th>15-19</th>\n",
       "      <td>136</td>\n",
       "      <td>$3.04</td>\n",
       "      <td>$412.89</td>\n",
       "    </tr>\n",
       "    <tr>\n",
       "      <th>20-24</th>\n",
       "      <td>365</td>\n",
       "      <td>$3.05</td>\n",
       "      <td>$1114.06</td>\n",
       "    </tr>\n",
       "    <tr>\n",
       "      <th>25-29</th>\n",
       "      <td>101</td>\n",
       "      <td>$2.9</td>\n",
       "      <td>$293.0</td>\n",
       "    </tr>\n",
       "    <tr>\n",
       "      <th>30-34</th>\n",
       "      <td>73</td>\n",
       "      <td>$2.93</td>\n",
       "      <td>$214.0</td>\n",
       "    </tr>\n",
       "    <tr>\n",
       "      <th>35-39</th>\n",
       "      <td>41</td>\n",
       "      <td>$3.6</td>\n",
       "      <td>$147.67</td>\n",
       "    </tr>\n",
       "    <tr>\n",
       "      <th>40+</th>\n",
       "      <td>13</td>\n",
       "      <td>$2.94</td>\n",
       "      <td>$38.24</td>\n",
       "    </tr>\n",
       "    <tr>\n",
       "      <th>&lt;10</th>\n",
       "      <td>23</td>\n",
       "      <td>$3.35</td>\n",
       "      <td>$77.13</td>\n",
       "    </tr>\n",
       "  </tbody>\n",
       "</table>\n",
       "</div>"
      ],
      "text/plain": [
       "           Purchase_Count Average_Purchase_Price Total_Purchase_Value\n",
       "age_group                                                            \n",
       "10-14                  28                  $2.96               $82.78\n",
       "15-19                 136                  $3.04              $412.89\n",
       "20-24                 365                  $3.05             $1114.06\n",
       "25-29                 101                   $2.9               $293.0\n",
       "30-34                  73                  $2.93               $214.0\n",
       "35-39                  41                   $3.6              $147.67\n",
       "40+                    13                  $2.94               $38.24\n",
       "<10                    23                  $3.35               $77.13"
      ]
     },
     "execution_count": 80,
     "metadata": {},
     "output_type": "execute_result"
    }
   ],
   "source": [
    "age_purchase = purchase_data.groupby(['age_group']).agg(Purchase_Count=('Purchase ID','count'), \n",
    "                                                       Average_Purchase_Price = ('Price','mean'),\n",
    "                                                       Total_Purchase_Value = ('Price','sum'))\n",
    "\n",
    "age_purchase['Average_Purchase_Price'] = '$' + age_purchase['Average_Purchase_Price'].round(2).astype(str)\n",
    "age_purchase['Total_Purchase_Value'] = '$' + age_purchase['Total_Purchase_Value'].round(2).astype(str)\n",
    "\n",
    "age_purchase"
   ]
  },
  {
   "cell_type": "markdown",
   "metadata": {},
   "source": [
    "### Q9-Top Spenders"
   ]
  },
  {
   "cell_type": "markdown",
   "metadata": {},
   "source": [
    "* Run basic calculations to obtain the results in the table below\n",
    "\n",
    "\n",
    "* Create a summary data frame to hold the results\n",
    "\n",
    "\n",
    "* Sort the total purchase value column in descending order\n",
    "\n",
    "\n",
    "* Optional: give the displayed data cleaner formatting\n",
    "\n",
    "\n",
    "* Display a preview of the summary data frame\n",
    "\n"
   ]
  },
  {
   "cell_type": "code",
   "execution_count": 81,
   "metadata": {},
   "outputs": [
    {
     "data": {
      "text/html": [
       "<div>\n",
       "<style scoped>\n",
       "    .dataframe tbody tr th:only-of-type {\n",
       "        vertical-align: middle;\n",
       "    }\n",
       "\n",
       "    .dataframe tbody tr th {\n",
       "        vertical-align: top;\n",
       "    }\n",
       "\n",
       "    .dataframe thead th {\n",
       "        text-align: right;\n",
       "    }\n",
       "</style>\n",
       "<table border=\"1\" class=\"dataframe\">\n",
       "  <thead>\n",
       "    <tr style=\"text-align: right;\">\n",
       "      <th></th>\n",
       "      <th>Purchase_Count</th>\n",
       "      <th>Average_Purchase_Price</th>\n",
       "      <th>Total_Purchase_Value</th>\n",
       "    </tr>\n",
       "    <tr>\n",
       "      <th>SN</th>\n",
       "      <th></th>\n",
       "      <th></th>\n",
       "      <th></th>\n",
       "    </tr>\n",
       "  </thead>\n",
       "  <tbody>\n",
       "    <tr>\n",
       "      <th>Lisosia93</th>\n",
       "      <td>5</td>\n",
       "      <td>$3.79</td>\n",
       "      <td>$18.96</td>\n",
       "    </tr>\n",
       "    <tr>\n",
       "      <th>Idastidru52</th>\n",
       "      <td>4</td>\n",
       "      <td>$3.86</td>\n",
       "      <td>$15.45</td>\n",
       "    </tr>\n",
       "    <tr>\n",
       "      <th>Chamjask73</th>\n",
       "      <td>3</td>\n",
       "      <td>$4.61</td>\n",
       "      <td>$13.83</td>\n",
       "    </tr>\n",
       "    <tr>\n",
       "      <th>Iral74</th>\n",
       "      <td>4</td>\n",
       "      <td>$3.4</td>\n",
       "      <td>$13.62</td>\n",
       "    </tr>\n",
       "    <tr>\n",
       "      <th>Iskadarya95</th>\n",
       "      <td>3</td>\n",
       "      <td>$4.37</td>\n",
       "      <td>$13.1</td>\n",
       "    </tr>\n",
       "  </tbody>\n",
       "</table>\n",
       "</div>"
      ],
      "text/plain": [
       "             Purchase_Count Average_Purchase_Price Total_Purchase_Value\n",
       "SN                                                                     \n",
       "Lisosia93                 5                  $3.79               $18.96\n",
       "Idastidru52               4                  $3.86               $15.45\n",
       "Chamjask73                3                  $4.61               $13.83\n",
       "Iral74                    4                   $3.4               $13.62\n",
       "Iskadarya95               3                  $4.37                $13.1"
      ]
     },
     "execution_count": 81,
     "metadata": {},
     "output_type": "execute_result"
    }
   ],
   "source": [
    "top_spenders = purchase_data.groupby(['SN']).agg(Purchase_Count=('Purchase ID','count'), \n",
    "                                                       Average_Purchase_Price = ('Price','mean'),\n",
    "                                                       Total_Purchase_Value = ('Price','sum'))\n",
    "top_five = top_spenders.sort_values(by=['Total_Purchase_Value'], ascending=False).head(5)\n",
    "top_five['Average_Purchase_Price'] = '$' + top_five['Average_Purchase_Price'].round(2).astype(str)\n",
    "top_five['Total_Purchase_Value'] = '$' + top_five['Total_Purchase_Value'].round(2).astype(str)\n",
    "top_five"
   ]
  },
  {
   "cell_type": "markdown",
   "metadata": {},
   "source": [
    "### Q10-Most Popular Items"
   ]
  },
  {
   "cell_type": "markdown",
   "metadata": {},
   "source": [
    "* Retrieve the Item ID, Item Name, and Item Price columns\n",
    "\n",
    "\n",
    "* Group by Item ID and Item Name. Perform calculations to obtain purchase count, item price, and total purchase value\n",
    "\n",
    "\n",
    "* Create a summary data frame to hold the results\n",
    "\n",
    "\n",
    "* Sort the purchase count column in descending order\n",
    "\n",
    "\n",
    "* Optional: give the displayed data cleaner formatting\n",
    "\n",
    "\n",
    "* Display a preview of the summary data frame\n",
    "\n"
   ]
  },
  {
   "cell_type": "code",
   "execution_count": 66,
   "metadata": {},
   "outputs": [
    {
     "data": {
      "text/html": [
       "<div>\n",
       "<style scoped>\n",
       "    .dataframe tbody tr th:only-of-type {\n",
       "        vertical-align: middle;\n",
       "    }\n",
       "\n",
       "    .dataframe tbody tr th {\n",
       "        vertical-align: top;\n",
       "    }\n",
       "\n",
       "    .dataframe thead th {\n",
       "        text-align: right;\n",
       "    }\n",
       "</style>\n",
       "<table border=\"1\" class=\"dataframe\">\n",
       "  <thead>\n",
       "    <tr style=\"text-align: right;\">\n",
       "      <th></th>\n",
       "      <th></th>\n",
       "      <th>Count</th>\n",
       "      <th>Average_Purchase</th>\n",
       "      <th>Total_Purchase</th>\n",
       "    </tr>\n",
       "    <tr>\n",
       "      <th>Item ID</th>\n",
       "      <th>Item Name</th>\n",
       "      <th></th>\n",
       "      <th></th>\n",
       "      <th></th>\n",
       "    </tr>\n",
       "  </thead>\n",
       "  <tbody>\n",
       "    <tr>\n",
       "      <th>178</th>\n",
       "      <th>Oathbreaker, Last Hope of the Breaking Storm</th>\n",
       "      <td>12</td>\n",
       "      <td>4.23</td>\n",
       "      <td>50.76</td>\n",
       "    </tr>\n",
       "    <tr>\n",
       "      <th>145</th>\n",
       "      <th>Fiery Glass Crusader</th>\n",
       "      <td>9</td>\n",
       "      <td>4.58</td>\n",
       "      <td>41.22</td>\n",
       "    </tr>\n",
       "    <tr>\n",
       "      <th>108</th>\n",
       "      <th>Extraction, Quickblade Of Trembling Hands</th>\n",
       "      <td>9</td>\n",
       "      <td>3.53</td>\n",
       "      <td>31.77</td>\n",
       "    </tr>\n",
       "    <tr>\n",
       "      <th>82</th>\n",
       "      <th>Nirvana</th>\n",
       "      <td>9</td>\n",
       "      <td>4.90</td>\n",
       "      <td>44.10</td>\n",
       "    </tr>\n",
       "    <tr>\n",
       "      <th>19</th>\n",
       "      <th>Pursuit, Cudgel of Necromancy</th>\n",
       "      <td>8</td>\n",
       "      <td>1.02</td>\n",
       "      <td>8.16</td>\n",
       "    </tr>\n",
       "  </tbody>\n",
       "</table>\n",
       "</div>"
      ],
      "text/plain": [
       "                                                      Count  Average_Purchase  \\\n",
       "Item ID Item Name                                                               \n",
       "178     Oathbreaker, Last Hope of the Breaking Storm     12              4.23   \n",
       "145     Fiery Glass Crusader                              9              4.58   \n",
       "108     Extraction, Quickblade Of Trembling Hands         9              3.53   \n",
       "82      Nirvana                                           9              4.90   \n",
       "19      Pursuit, Cudgel of Necromancy                     8              1.02   \n",
       "\n",
       "                                                      Total_Purchase  \n",
       "Item ID Item Name                                                     \n",
       "178     Oathbreaker, Last Hope of the Breaking Storm           50.76  \n",
       "145     Fiery Glass Crusader                                   41.22  \n",
       "108     Extraction, Quickblade Of Trembling Hands              31.77  \n",
       "82      Nirvana                                                44.10  \n",
       "19      Pursuit, Cudgel of Necromancy                           8.16  "
      ]
     },
     "execution_count": 66,
     "metadata": {},
     "output_type": "execute_result"
    }
   ],
   "source": [
    "Most_Polular_Items = purchase_data.groupby(['Item ID','Item Name']).agg(Count=('Purchase ID','count'), Average_Purchase= ('Price','mean'), Total_Purchase = ('Price','sum'))\n",
    "Most_Polular_Items = Most_Polular_Items.sort_values(by=['Count'], ascending=False)\n",
    "Most_Polular_Items.head(5)"
   ]
  },
  {
   "cell_type": "markdown",
   "metadata": {},
   "source": [
    "### Q11-Most Profitable Items"
   ]
  },
  {
   "cell_type": "markdown",
   "metadata": {},
   "source": [
    "* Sort the above table by total purchase value in descending order\n",
    "\n",
    "\n",
    "* Optional: give the displayed data cleaner formatting\n",
    "\n",
    "\n",
    "* Display a preview of the data frame\n",
    "\n"
   ]
  },
  {
   "cell_type": "code",
   "execution_count": 138,
   "metadata": {
    "scrolled": true
   },
   "outputs": [
    {
     "data": {
      "text/html": [
       "<div>\n",
       "<style scoped>\n",
       "    .dataframe tbody tr th:only-of-type {\n",
       "        vertical-align: middle;\n",
       "    }\n",
       "\n",
       "    .dataframe tbody tr th {\n",
       "        vertical-align: top;\n",
       "    }\n",
       "\n",
       "    .dataframe thead th {\n",
       "        text-align: right;\n",
       "    }\n",
       "</style>\n",
       "<table border=\"1\" class=\"dataframe\">\n",
       "  <thead>\n",
       "    <tr style=\"text-align: right;\">\n",
       "      <th></th>\n",
       "      <th></th>\n",
       "      <th>Purchase_Count</th>\n",
       "      <th>Average_Purchase_Price</th>\n",
       "      <th>Total_Purchase_Value</th>\n",
       "    </tr>\n",
       "    <tr>\n",
       "      <th>Item ID</th>\n",
       "      <th>Item Name</th>\n",
       "      <th></th>\n",
       "      <th></th>\n",
       "      <th></th>\n",
       "    </tr>\n",
       "  </thead>\n",
       "  <tbody>\n",
       "    <tr>\n",
       "      <th>178</th>\n",
       "      <th>Oathbreaker, Last Hope of the Breaking Storm</th>\n",
       "      <td>12</td>\n",
       "      <td>4.23</td>\n",
       "      <td>50.76</td>\n",
       "    </tr>\n",
       "    <tr>\n",
       "      <th>82</th>\n",
       "      <th>Nirvana</th>\n",
       "      <td>9</td>\n",
       "      <td>4.90</td>\n",
       "      <td>44.10</td>\n",
       "    </tr>\n",
       "    <tr>\n",
       "      <th>145</th>\n",
       "      <th>Fiery Glass Crusader</th>\n",
       "      <td>9</td>\n",
       "      <td>4.58</td>\n",
       "      <td>41.22</td>\n",
       "    </tr>\n",
       "    <tr>\n",
       "      <th>92</th>\n",
       "      <th>Final Critic</th>\n",
       "      <td>8</td>\n",
       "      <td>4.88</td>\n",
       "      <td>39.04</td>\n",
       "    </tr>\n",
       "    <tr>\n",
       "      <th>103</th>\n",
       "      <th>Singed Scalpel</th>\n",
       "      <td>8</td>\n",
       "      <td>4.35</td>\n",
       "      <td>34.80</td>\n",
       "    </tr>\n",
       "  </tbody>\n",
       "</table>\n",
       "</div>"
      ],
      "text/plain": [
       "                                                      Purchase_Count  \\\n",
       "Item ID Item Name                                                      \n",
       "178     Oathbreaker, Last Hope of the Breaking Storm              12   \n",
       "82      Nirvana                                                    9   \n",
       "145     Fiery Glass Crusader                                       9   \n",
       "92      Final Critic                                               8   \n",
       "103     Singed Scalpel                                             8   \n",
       "\n",
       "                                                      Average_Purchase_Price  \\\n",
       "Item ID Item Name                                                              \n",
       "178     Oathbreaker, Last Hope of the Breaking Storm                    4.23   \n",
       "82      Nirvana                                                         4.90   \n",
       "145     Fiery Glass Crusader                                            4.58   \n",
       "92      Final Critic                                                    4.88   \n",
       "103     Singed Scalpel                                                  4.35   \n",
       "\n",
       "                                                      Total_Purchase_Value  \n",
       "Item ID Item Name                                                           \n",
       "178     Oathbreaker, Last Hope of the Breaking Storm                 50.76  \n",
       "82      Nirvana                                                      44.10  \n",
       "145     Fiery Glass Crusader                                         41.22  \n",
       "92      Final Critic                                                 39.04  \n",
       "103     Singed Scalpel                                               34.80  "
      ]
     },
     "execution_count": 138,
     "metadata": {},
     "output_type": "execute_result"
    }
   ],
   "source": [
    "most_popular_items = most_popular_items.sort_values(by=['Total_Purchase_Value'], ascending=False)\n",
    "most_popular_items.head(5)"
   ]
  },
  {
   "cell_type": "markdown",
   "metadata": {},
   "source": [
    "# Section 2"
   ]
  },
  {
   "cell_type": "markdown",
   "metadata": {},
   "source": [
    "#### Q12: Import the covid-19 dataset provided and set the state as the index of the dataframe."
   ]
  },
  {
   "cell_type": "code",
   "execution_count": 139,
   "metadata": {},
   "outputs": [
    {
     "data": {
      "text/html": [
       "<div>\n",
       "<style scoped>\n",
       "    .dataframe tbody tr th:only-of-type {\n",
       "        vertical-align: middle;\n",
       "    }\n",
       "\n",
       "    .dataframe tbody tr th {\n",
       "        vertical-align: top;\n",
       "    }\n",
       "\n",
       "    .dataframe thead th {\n",
       "        text-align: right;\n",
       "    }\n",
       "</style>\n",
       "<table border=\"1\" class=\"dataframe\">\n",
       "  <thead>\n",
       "    <tr style=\"text-align: right;\">\n",
       "      <th></th>\n",
       "      <th>death</th>\n",
       "      <th>hospitalized</th>\n",
       "      <th>negative</th>\n",
       "      <th>pending</th>\n",
       "      <th>positive</th>\n",
       "      <th>recovered</th>\n",
       "      <th>total</th>\n",
       "    </tr>\n",
       "    <tr>\n",
       "      <th>state</th>\n",
       "      <th></th>\n",
       "      <th></th>\n",
       "      <th></th>\n",
       "      <th></th>\n",
       "      <th></th>\n",
       "      <th></th>\n",
       "      <th></th>\n",
       "    </tr>\n",
       "  </thead>\n",
       "  <tbody>\n",
       "    <tr>\n",
       "      <th>WY</th>\n",
       "      <td>50</td>\n",
       "      <td>272.0</td>\n",
       "      <td>95212</td>\n",
       "      <td>NaN</td>\n",
       "      <td>5948</td>\n",
       "      <td>4791.0</td>\n",
       "      <td>101160</td>\n",
       "    </tr>\n",
       "    <tr>\n",
       "      <th>NE</th>\n",
       "      <td>478</td>\n",
       "      <td>2315.0</td>\n",
       "      <td>410594</td>\n",
       "      <td>NaN</td>\n",
       "      <td>45044</td>\n",
       "      <td>33198.0</td>\n",
       "      <td>455638</td>\n",
       "    </tr>\n",
       "    <tr>\n",
       "      <th>ND</th>\n",
       "      <td>191</td>\n",
       "      <td>859.0</td>\n",
       "      <td>219646</td>\n",
       "      <td>NaN</td>\n",
       "      <td>21846</td>\n",
       "      <td>17938.0</td>\n",
       "      <td>241492</td>\n",
       "    </tr>\n",
       "    <tr>\n",
       "      <th>NC</th>\n",
       "      <td>3532</td>\n",
       "      <td>NaN</td>\n",
       "      <td>2824239</td>\n",
       "      <td>NaN</td>\n",
       "      <td>210632</td>\n",
       "      <td>184422.0</td>\n",
       "      <td>3034871</td>\n",
       "    </tr>\n",
       "    <tr>\n",
       "      <th>MT</th>\n",
       "      <td>180</td>\n",
       "      <td>717.0</td>\n",
       "      <td>330087</td>\n",
       "      <td>NaN</td>\n",
       "      <td>13071</td>\n",
       "      <td>9256.0</td>\n",
       "      <td>343158</td>\n",
       "    </tr>\n",
       "  </tbody>\n",
       "</table>\n",
       "</div>"
      ],
      "text/plain": [
       "       death  hospitalized  negative  pending  positive  recovered    total\n",
       "state                                                                      \n",
       "WY        50         272.0     95212      NaN      5948     4791.0   101160\n",
       "NE       478        2315.0    410594      NaN     45044    33198.0   455638\n",
       "ND       191         859.0    219646      NaN     21846    17938.0   241492\n",
       "NC      3532           NaN   2824239      NaN    210632   184422.0  3034871\n",
       "MT       180         717.0    330087      NaN     13071     9256.0   343158"
      ]
     },
     "execution_count": 139,
     "metadata": {},
     "output_type": "execute_result"
    }
   ],
   "source": [
    "covid_data = pd.read_csv('/Users/ashok/Downloads/us_states_covid19_daily.csv'\n",
    "                        , index_col = 'state')\n",
    "covid_data.head(5)"
   ]
  },
  {
   "cell_type": "markdown",
   "metadata": {},
   "source": [
    "#### Q13: Replace all the NaN values in 'pending' column with the string 'None'."
   ]
  },
  {
   "cell_type": "code",
   "execution_count": 140,
   "metadata": {},
   "outputs": [
    {
     "data": {
      "text/html": [
       "<div>\n",
       "<style scoped>\n",
       "    .dataframe tbody tr th:only-of-type {\n",
       "        vertical-align: middle;\n",
       "    }\n",
       "\n",
       "    .dataframe tbody tr th {\n",
       "        vertical-align: top;\n",
       "    }\n",
       "\n",
       "    .dataframe thead th {\n",
       "        text-align: right;\n",
       "    }\n",
       "</style>\n",
       "<table border=\"1\" class=\"dataframe\">\n",
       "  <thead>\n",
       "    <tr style=\"text-align: right;\">\n",
       "      <th></th>\n",
       "      <th>death</th>\n",
       "      <th>hospitalized</th>\n",
       "      <th>negative</th>\n",
       "      <th>pending</th>\n",
       "      <th>positive</th>\n",
       "      <th>recovered</th>\n",
       "      <th>total</th>\n",
       "    </tr>\n",
       "    <tr>\n",
       "      <th>state</th>\n",
       "      <th></th>\n",
       "      <th></th>\n",
       "      <th></th>\n",
       "      <th></th>\n",
       "      <th></th>\n",
       "      <th></th>\n",
       "      <th></th>\n",
       "    </tr>\n",
       "  </thead>\n",
       "  <tbody>\n",
       "    <tr>\n",
       "      <th>WY</th>\n",
       "      <td>50</td>\n",
       "      <td>272.0</td>\n",
       "      <td>95212</td>\n",
       "      <td>None</td>\n",
       "      <td>5948</td>\n",
       "      <td>4791.0</td>\n",
       "      <td>101160</td>\n",
       "    </tr>\n",
       "    <tr>\n",
       "      <th>NE</th>\n",
       "      <td>478</td>\n",
       "      <td>2315.0</td>\n",
       "      <td>410594</td>\n",
       "      <td>None</td>\n",
       "      <td>45044</td>\n",
       "      <td>33198.0</td>\n",
       "      <td>455638</td>\n",
       "    </tr>\n",
       "    <tr>\n",
       "      <th>ND</th>\n",
       "      <td>191</td>\n",
       "      <td>859.0</td>\n",
       "      <td>219646</td>\n",
       "      <td>None</td>\n",
       "      <td>21846</td>\n",
       "      <td>17938.0</td>\n",
       "      <td>241492</td>\n",
       "    </tr>\n",
       "    <tr>\n",
       "      <th>NC</th>\n",
       "      <td>3532</td>\n",
       "      <td>NaN</td>\n",
       "      <td>2824239</td>\n",
       "      <td>None</td>\n",
       "      <td>210632</td>\n",
       "      <td>184422.0</td>\n",
       "      <td>3034871</td>\n",
       "    </tr>\n",
       "    <tr>\n",
       "      <th>MT</th>\n",
       "      <td>180</td>\n",
       "      <td>717.0</td>\n",
       "      <td>330087</td>\n",
       "      <td>None</td>\n",
       "      <td>13071</td>\n",
       "      <td>9256.0</td>\n",
       "      <td>343158</td>\n",
       "    </tr>\n",
       "  </tbody>\n",
       "</table>\n",
       "</div>"
      ],
      "text/plain": [
       "       death  hospitalized  negative pending  positive  recovered    total\n",
       "state                                                                     \n",
       "WY        50         272.0     95212    None      5948     4791.0   101160\n",
       "NE       478        2315.0    410594    None     45044    33198.0   455638\n",
       "ND       191         859.0    219646    None     21846    17938.0   241492\n",
       "NC      3532           NaN   2824239    None    210632   184422.0  3034871\n",
       "MT       180         717.0    330087    None     13071     9256.0   343158"
      ]
     },
     "execution_count": 140,
     "metadata": {},
     "output_type": "execute_result"
    }
   ],
   "source": [
    "covid_data['pending'] = covid_data['pending'].fillna('None')\n",
    "covid_data.head(5)"
   ]
  },
  {
   "cell_type": "markdown",
   "metadata": {},
   "source": [
    "#### Q14: Replace the NaN values in the 'hospitalized' columns with the mean value of the column."
   ]
  },
  {
   "cell_type": "code",
   "execution_count": 141,
   "metadata": {},
   "outputs": [
    {
     "data": {
      "text/html": [
       "<div>\n",
       "<style scoped>\n",
       "    .dataframe tbody tr th:only-of-type {\n",
       "        vertical-align: middle;\n",
       "    }\n",
       "\n",
       "    .dataframe tbody tr th {\n",
       "        vertical-align: top;\n",
       "    }\n",
       "\n",
       "    .dataframe thead th {\n",
       "        text-align: right;\n",
       "    }\n",
       "</style>\n",
       "<table border=\"1\" class=\"dataframe\">\n",
       "  <thead>\n",
       "    <tr style=\"text-align: right;\">\n",
       "      <th></th>\n",
       "      <th>death</th>\n",
       "      <th>hospitalized</th>\n",
       "      <th>negative</th>\n",
       "      <th>pending</th>\n",
       "      <th>positive</th>\n",
       "      <th>recovered</th>\n",
       "      <th>total</th>\n",
       "    </tr>\n",
       "    <tr>\n",
       "      <th>state</th>\n",
       "      <th></th>\n",
       "      <th></th>\n",
       "      <th></th>\n",
       "      <th></th>\n",
       "      <th></th>\n",
       "      <th></th>\n",
       "      <th></th>\n",
       "    </tr>\n",
       "  </thead>\n",
       "  <tbody>\n",
       "    <tr>\n",
       "      <th>WY</th>\n",
       "      <td>50</td>\n",
       "      <td>272.000000</td>\n",
       "      <td>95212</td>\n",
       "      <td>None</td>\n",
       "      <td>5948</td>\n",
       "      <td>4791.0</td>\n",
       "      <td>101160</td>\n",
       "    </tr>\n",
       "    <tr>\n",
       "      <th>NE</th>\n",
       "      <td>478</td>\n",
       "      <td>2315.000000</td>\n",
       "      <td>410594</td>\n",
       "      <td>None</td>\n",
       "      <td>45044</td>\n",
       "      <td>33198.0</td>\n",
       "      <td>455638</td>\n",
       "    </tr>\n",
       "    <tr>\n",
       "      <th>ND</th>\n",
       "      <td>191</td>\n",
       "      <td>859.000000</td>\n",
       "      <td>219646</td>\n",
       "      <td>None</td>\n",
       "      <td>21846</td>\n",
       "      <td>17938.0</td>\n",
       "      <td>241492</td>\n",
       "    </tr>\n",
       "    <tr>\n",
       "      <th>NC</th>\n",
       "      <td>3532</td>\n",
       "      <td>11044.567568</td>\n",
       "      <td>2824239</td>\n",
       "      <td>None</td>\n",
       "      <td>210632</td>\n",
       "      <td>184422.0</td>\n",
       "      <td>3034871</td>\n",
       "    </tr>\n",
       "    <tr>\n",
       "      <th>MT</th>\n",
       "      <td>180</td>\n",
       "      <td>717.000000</td>\n",
       "      <td>330087</td>\n",
       "      <td>None</td>\n",
       "      <td>13071</td>\n",
       "      <td>9256.0</td>\n",
       "      <td>343158</td>\n",
       "    </tr>\n",
       "  </tbody>\n",
       "</table>\n",
       "</div>"
      ],
      "text/plain": [
       "       death  hospitalized  negative pending  positive  recovered    total\n",
       "state                                                                     \n",
       "WY        50    272.000000     95212    None      5948     4791.0   101160\n",
       "NE       478   2315.000000    410594    None     45044    33198.0   455638\n",
       "ND       191    859.000000    219646    None     21846    17938.0   241492\n",
       "NC      3532  11044.567568   2824239    None    210632   184422.0  3034871\n",
       "MT       180    717.000000    330087    None     13071     9256.0   343158"
      ]
     },
     "execution_count": 141,
     "metadata": {},
     "output_type": "execute_result"
    }
   ],
   "source": [
    "covid_data['hospitalized'] = pd.to_numeric(covid_data['hospitalized'], errors='coerce')\n",
    "covid_data.describe()\n",
    "covid_data['hospitalized'] = covid_data['hospitalized'].fillna((covid_data['hospitalized'].mean()))\n",
    "covid_data.head(5)"
   ]
  },
  {
   "cell_type": "markdown",
   "metadata": {},
   "source": [
    "#### Q15: Find the death percentage (round to 2 decimal points) of covid positive patients for each state and add it as a column in the dataset. (death% = death/positive)"
   ]
  },
  {
   "cell_type": "code",
   "execution_count": 52,
   "metadata": {},
   "outputs": [
    {
     "data": {
      "text/html": [
       "<div>\n",
       "<style scoped>\n",
       "    .dataframe tbody tr th:only-of-type {\n",
       "        vertical-align: middle;\n",
       "    }\n",
       "\n",
       "    .dataframe tbody tr th {\n",
       "        vertical-align: top;\n",
       "    }\n",
       "\n",
       "    .dataframe thead th {\n",
       "        text-align: right;\n",
       "    }\n",
       "</style>\n",
       "<table border=\"1\" class=\"dataframe\">\n",
       "  <thead>\n",
       "    <tr style=\"text-align: right;\">\n",
       "      <th></th>\n",
       "      <th>death</th>\n",
       "      <th>hospitalized</th>\n",
       "      <th>negative</th>\n",
       "      <th>pending</th>\n",
       "      <th>positive</th>\n",
       "      <th>recovered</th>\n",
       "      <th>total</th>\n",
       "      <th>death_rate</th>\n",
       "    </tr>\n",
       "    <tr>\n",
       "      <th>state</th>\n",
       "      <th></th>\n",
       "      <th></th>\n",
       "      <th></th>\n",
       "      <th></th>\n",
       "      <th></th>\n",
       "      <th></th>\n",
       "      <th></th>\n",
       "      <th></th>\n",
       "    </tr>\n",
       "  </thead>\n",
       "  <tbody>\n",
       "    <tr>\n",
       "      <th>WY</th>\n",
       "      <td>50</td>\n",
       "      <td>272.000000</td>\n",
       "      <td>95212</td>\n",
       "      <td>None</td>\n",
       "      <td>5948</td>\n",
       "      <td>4791.0</td>\n",
       "      <td>101160</td>\n",
       "      <td>0.84</td>\n",
       "    </tr>\n",
       "    <tr>\n",
       "      <th>NE</th>\n",
       "      <td>478</td>\n",
       "      <td>2315.000000</td>\n",
       "      <td>410594</td>\n",
       "      <td>None</td>\n",
       "      <td>45044</td>\n",
       "      <td>33198.0</td>\n",
       "      <td>455638</td>\n",
       "      <td>1.06</td>\n",
       "    </tr>\n",
       "    <tr>\n",
       "      <th>ND</th>\n",
       "      <td>191</td>\n",
       "      <td>859.000000</td>\n",
       "      <td>219646</td>\n",
       "      <td>None</td>\n",
       "      <td>21846</td>\n",
       "      <td>17938.0</td>\n",
       "      <td>241492</td>\n",
       "      <td>0.87</td>\n",
       "    </tr>\n",
       "    <tr>\n",
       "      <th>NC</th>\n",
       "      <td>3532</td>\n",
       "      <td>11044.567568</td>\n",
       "      <td>2824239</td>\n",
       "      <td>None</td>\n",
       "      <td>210632</td>\n",
       "      <td>184422.0</td>\n",
       "      <td>3034871</td>\n",
       "      <td>1.68</td>\n",
       "    </tr>\n",
       "    <tr>\n",
       "      <th>MT</th>\n",
       "      <td>180</td>\n",
       "      <td>717.000000</td>\n",
       "      <td>330087</td>\n",
       "      <td>None</td>\n",
       "      <td>13071</td>\n",
       "      <td>9256.0</td>\n",
       "      <td>343158</td>\n",
       "      <td>1.38</td>\n",
       "    </tr>\n",
       "  </tbody>\n",
       "</table>\n",
       "</div>"
      ],
      "text/plain": [
       "       death  hospitalized  negative pending  positive  recovered    total  \\\n",
       "state                                                                        \n",
       "WY        50    272.000000     95212    None      5948     4791.0   101160   \n",
       "NE       478   2315.000000    410594    None     45044    33198.0   455638   \n",
       "ND       191    859.000000    219646    None     21846    17938.0   241492   \n",
       "NC      3532  11044.567568   2824239    None    210632   184422.0  3034871   \n",
       "MT       180    717.000000    330087    None     13071     9256.0   343158   \n",
       "\n",
       "       death_rate  \n",
       "state              \n",
       "WY           0.84  \n",
       "NE           1.06  \n",
       "ND           0.87  \n",
       "NC           1.68  \n",
       "MT           1.38  "
      ]
     },
     "execution_count": 52,
     "metadata": {},
     "output_type": "execute_result"
    }
   ],
   "source": [
    "covid_data['death_rate']= (covid_data['death']/covid_data['positive']*100).round(2)\n",
    "covid_data.head(5)"
   ]
  },
  {
   "cell_type": "markdown",
   "metadata": {},
   "source": [
    "#### Q16: Print the total number of negative, positive, and recovered cases in the US."
   ]
  },
  {
   "cell_type": "code",
   "execution_count": 54,
   "metadata": {},
   "outputs": [
    {
     "name": "stdout",
     "output_type": "stream",
     "text": [
      "No of negative cases: 92955835\n",
      "No of positive cases: 7198622\n",
      "No of recovered cases: 2840747.0\n"
     ]
    }
   ],
   "source": [
    "covid_data['recovered'] = pd.to_numeric(covid_data['recovered'], errors='coerce')\n",
    "covid_data['recovered'] = covid_data['recovered'].fillna(0)\n",
    "print('No of negative cases:', sum(covid_data['negative']))\n",
    "print('No of positive cases:', sum(covid_data['positive']))\n",
    "print('No of recovered cases:', sum(covid_data['recovered']))"
   ]
  },
  {
   "cell_type": "markdown",
   "metadata": {},
   "source": [
    "#### Q17: What percent of the covid positive patients from the state of NY were hospitalized (round the value to 2 decimal places)?"
   ]
  },
  {
   "cell_type": "code",
   "execution_count": 55,
   "metadata": {},
   "outputs": [
    {
     "data": {
      "text/plain": [
       "state\n",
       "NY    19.62\n",
       "dtype: float64"
      ]
     },
     "execution_count": 55,
     "metadata": {},
     "output_type": "execute_result"
    }
   ],
   "source": [
    "NY = covid_data.loc[['NY']]\n",
    "(NY['hospitalized']/NY['positive']*100).round(2)"
   ]
  },
  {
   "cell_type": "markdown",
   "metadata": {},
   "source": [
    "#### Q18: Return the state name with the maximum number of covid positive cases"
   ]
  },
  {
   "cell_type": "code",
   "execution_count": 57,
   "metadata": {},
   "outputs": [
    {
     "data": {
      "text/html": [
       "<div>\n",
       "<style scoped>\n",
       "    .dataframe tbody tr th:only-of-type {\n",
       "        vertical-align: middle;\n",
       "    }\n",
       "\n",
       "    .dataframe tbody tr th {\n",
       "        vertical-align: top;\n",
       "    }\n",
       "\n",
       "    .dataframe thead th {\n",
       "        text-align: right;\n",
       "    }\n",
       "</style>\n",
       "<table border=\"1\" class=\"dataframe\">\n",
       "  <thead>\n",
       "    <tr style=\"text-align: right;\">\n",
       "      <th></th>\n",
       "      <th>death</th>\n",
       "      <th>hospitalized</th>\n",
       "      <th>negative</th>\n",
       "      <th>pending</th>\n",
       "      <th>positive</th>\n",
       "      <th>recovered</th>\n",
       "      <th>total</th>\n",
       "      <th>death_rate</th>\n",
       "    </tr>\n",
       "    <tr>\n",
       "      <th>state</th>\n",
       "      <th></th>\n",
       "      <th></th>\n",
       "      <th></th>\n",
       "      <th></th>\n",
       "      <th></th>\n",
       "      <th></th>\n",
       "      <th></th>\n",
       "      <th></th>\n",
       "    </tr>\n",
       "  </thead>\n",
       "  <tbody>\n",
       "    <tr>\n",
       "      <th>CA</th>\n",
       "      <td>15792</td>\n",
       "      <td>11044.567568</td>\n",
       "      <td>13894577</td>\n",
       "      <td>None</td>\n",
       "      <td>810625</td>\n",
       "      <td>0.0</td>\n",
       "      <td>14705202</td>\n",
       "      <td>1.95</td>\n",
       "    </tr>\n",
       "  </tbody>\n",
       "</table>\n",
       "</div>"
      ],
      "text/plain": [
       "       death  hospitalized  negative pending  positive  recovered     total  \\\n",
       "state                                                                         \n",
       "CA     15792  11044.567568  13894577    None    810625        0.0  14705202   \n",
       "\n",
       "       death_rate  \n",
       "state              \n",
       "CA           1.95  "
      ]
     },
     "execution_count": 57,
     "metadata": {},
     "output_type": "execute_result"
    }
   ],
   "source": [
    "covid_data.sort_values(by=['positive'], ascending=False).head(1)"
   ]
  },
  {
   "cell_type": "markdown",
   "metadata": {},
   "source": [
    "#### Q19: Return the number of states with more than the mean value of positive cases"
   ]
  },
  {
   "cell_type": "code",
   "execution_count": 142,
   "metadata": {},
   "outputs": [
    {
     "data": {
      "text/plain": [
       "19"
      ]
     },
     "execution_count": 142,
     "metadata": {},
     "output_type": "execute_result"
    }
   ],
   "source": [
    "sum(covid_data['positive']>covid_data['positive'].mean())"
   ]
  },
  {
   "cell_type": "markdown",
   "metadata": {},
   "source": [
    "#### Q20: Print the data of those states whose no of negative cases is greater than the number of negative cases for MT. Then sort the dataframe wrt the total column values in descending order."
   ]
  },
  {
   "cell_type": "code",
   "execution_count": 143,
   "metadata": {},
   "outputs": [
    {
     "data": {
      "text/plain": [
       "(array([ 1,  3,  7,  8,  9, 10, 11, 12, 13, 14, 15, 16, 17, 18, 19, 20, 21,\n",
       "        22, 23, 24, 25, 28, 31, 34, 35, 36, 37, 39, 40, 41, 42, 44, 46, 47,\n",
       "        48, 49, 51, 52, 53, 54, 55], dtype=int64),)"
      ]
     },
     "execution_count": 143,
     "metadata": {},
     "output_type": "execute_result"
    }
   ],
   "source": [
    "MT= covid_data.loc[['MT']]\n",
    "MT\n",
    "\n",
    "idx = np.where(covid_data['negative']> sum(MT['negative']))\n",
    "type(idx)\n",
    "\n",
    "idx\n",
    "\n"
   ]
  },
  {
   "cell_type": "code",
   "execution_count": 144,
   "metadata": {
    "scrolled": true
   },
   "outputs": [
    {
     "data": {
      "text/html": [
       "<div>\n",
       "<style scoped>\n",
       "    .dataframe tbody tr th:only-of-type {\n",
       "        vertical-align: middle;\n",
       "    }\n",
       "\n",
       "    .dataframe tbody tr th {\n",
       "        vertical-align: top;\n",
       "    }\n",
       "\n",
       "    .dataframe thead th {\n",
       "        text-align: right;\n",
       "    }\n",
       "</style>\n",
       "<table border=\"1\" class=\"dataframe\">\n",
       "  <thead>\n",
       "    <tr style=\"text-align: right;\">\n",
       "      <th></th>\n",
       "      <th>death</th>\n",
       "      <th>hospitalized</th>\n",
       "      <th>negative</th>\n",
       "      <th>pending</th>\n",
       "      <th>positive</th>\n",
       "      <th>recovered</th>\n",
       "      <th>total</th>\n",
       "      <th>greater_than_MT</th>\n",
       "    </tr>\n",
       "    <tr>\n",
       "      <th>state</th>\n",
       "      <th></th>\n",
       "      <th></th>\n",
       "      <th></th>\n",
       "      <th></th>\n",
       "      <th></th>\n",
       "      <th></th>\n",
       "      <th></th>\n",
       "      <th></th>\n",
       "    </tr>\n",
       "  </thead>\n",
       "  <tbody>\n",
       "    <tr>\n",
       "      <th>CA</th>\n",
       "      <td>15792</td>\n",
       "      <td>11044.567568</td>\n",
       "      <td>13894577</td>\n",
       "      <td>None</td>\n",
       "      <td>810625</td>\n",
       "      <td>NaN</td>\n",
       "      <td>14705202</td>\n",
       "      <td>True</td>\n",
       "    </tr>\n",
       "    <tr>\n",
       "      <th>NY</th>\n",
       "      <td>25479</td>\n",
       "      <td>89995.000000</td>\n",
       "      <td>10288664</td>\n",
       "      <td>None</td>\n",
       "      <td>458649</td>\n",
       "      <td>76754.0</td>\n",
       "      <td>10747313</td>\n",
       "      <td>True</td>\n",
       "    </tr>\n",
       "    <tr>\n",
       "      <th>TX</th>\n",
       "      <td>15711</td>\n",
       "      <td>11044.567568</td>\n",
       "      <td>5488190</td>\n",
       "      <td>None</td>\n",
       "      <td>748967</td>\n",
       "      <td>664883.0</td>\n",
       "      <td>6237157</td>\n",
       "      <td>True</td>\n",
       "    </tr>\n",
       "    <tr>\n",
       "      <th>IL</th>\n",
       "      <td>8916</td>\n",
       "      <td>11044.567568</td>\n",
       "      <td>5331548</td>\n",
       "      <td>None</td>\n",
       "      <td>295763</td>\n",
       "      <td>NaN</td>\n",
       "      <td>5627311</td>\n",
       "      <td>True</td>\n",
       "    </tr>\n",
       "    <tr>\n",
       "      <th>FL</th>\n",
       "      <td>14488</td>\n",
       "      <td>44608.000000</td>\n",
       "      <td>4594668</td>\n",
       "      <td>3980.0</td>\n",
       "      <td>706516</td>\n",
       "      <td>NaN</td>\n",
       "      <td>5301184</td>\n",
       "      <td>True</td>\n",
       "    </tr>\n",
       "  </tbody>\n",
       "</table>\n",
       "</div>"
      ],
      "text/plain": [
       "       death  hospitalized  negative pending  positive  recovered     total  \\\n",
       "state                                                                         \n",
       "CA     15792  11044.567568  13894577    None    810625        NaN  14705202   \n",
       "NY     25479  89995.000000  10288664    None    458649    76754.0  10747313   \n",
       "TX     15711  11044.567568   5488190    None    748967   664883.0   6237157   \n",
       "IL      8916  11044.567568   5331548    None    295763        NaN   5627311   \n",
       "FL     14488  44608.000000   4594668  3980.0    706516        NaN   5301184   \n",
       "\n",
       "      greater_than_MT  \n",
       "state                  \n",
       "CA               True  \n",
       "NY               True  \n",
       "TX               True  \n",
       "IL               True  \n",
       "FL               True  "
      ]
     },
     "execution_count": 144,
     "metadata": {},
     "output_type": "execute_result"
    }
   ],
   "source": [
    "covid_data['greater_than_MT'] = covid_data['negative'].apply(lambda x: 'True' if x > sum(MT['negative']) else 'False')\n",
    "covid_MT = covid_data.loc[covid_data['greater_than_MT'] == 'True']\n",
    "covid_MT = covid_MT.sort_values(by=['negative'], ascending=False)\n",
    "covid_MT.head(5)"
   ]
  },
  {
   "cell_type": "markdown",
   "metadata": {},
   "source": [
    "#### Q21: Create a new column called recovery_rate which classifies a state as- \n",
    "    a) 'High Recovery' when recovered% > 50\n",
    "    b) 'Modearate Recovery' when recovered% is between 25 and 50 \n",
    "    c) 'Low Recovery' when recovered% is less than 25\n",
    "#### where recovered% = recovered / positive for each state"
   ]
  },
  {
   "cell_type": "code",
   "execution_count": 146,
   "metadata": {},
   "outputs": [
    {
     "data": {
      "text/html": [
       "<div>\n",
       "<style scoped>\n",
       "    .dataframe tbody tr th:only-of-type {\n",
       "        vertical-align: middle;\n",
       "    }\n",
       "\n",
       "    .dataframe tbody tr th {\n",
       "        vertical-align: top;\n",
       "    }\n",
       "\n",
       "    .dataframe thead th {\n",
       "        text-align: right;\n",
       "    }\n",
       "</style>\n",
       "<table border=\"1\" class=\"dataframe\">\n",
       "  <thead>\n",
       "    <tr style=\"text-align: right;\">\n",
       "      <th></th>\n",
       "      <th>death</th>\n",
       "      <th>hospitalized</th>\n",
       "      <th>negative</th>\n",
       "      <th>pending</th>\n",
       "      <th>positive</th>\n",
       "      <th>recovered</th>\n",
       "      <th>total</th>\n",
       "      <th>greater_than_MT</th>\n",
       "      <th>recovery_rate</th>\n",
       "      <th>recovery_group</th>\n",
       "    </tr>\n",
       "    <tr>\n",
       "      <th>state</th>\n",
       "      <th></th>\n",
       "      <th></th>\n",
       "      <th></th>\n",
       "      <th></th>\n",
       "      <th></th>\n",
       "      <th></th>\n",
       "      <th></th>\n",
       "      <th></th>\n",
       "      <th></th>\n",
       "      <th></th>\n",
       "    </tr>\n",
       "  </thead>\n",
       "  <tbody>\n",
       "    <tr>\n",
       "      <th>WY</th>\n",
       "      <td>50</td>\n",
       "      <td>272.000000</td>\n",
       "      <td>95212</td>\n",
       "      <td>None</td>\n",
       "      <td>5948</td>\n",
       "      <td>4791.0</td>\n",
       "      <td>101160</td>\n",
       "      <td>False</td>\n",
       "      <td>80.548083</td>\n",
       "      <td>High Recovery</td>\n",
       "    </tr>\n",
       "    <tr>\n",
       "      <th>NE</th>\n",
       "      <td>478</td>\n",
       "      <td>2315.000000</td>\n",
       "      <td>410594</td>\n",
       "      <td>None</td>\n",
       "      <td>45044</td>\n",
       "      <td>33198.0</td>\n",
       "      <td>455638</td>\n",
       "      <td>True</td>\n",
       "      <td>73.701270</td>\n",
       "      <td>High Recovery</td>\n",
       "    </tr>\n",
       "    <tr>\n",
       "      <th>ND</th>\n",
       "      <td>191</td>\n",
       "      <td>859.000000</td>\n",
       "      <td>219646</td>\n",
       "      <td>None</td>\n",
       "      <td>21846</td>\n",
       "      <td>17938.0</td>\n",
       "      <td>241492</td>\n",
       "      <td>False</td>\n",
       "      <td>82.111142</td>\n",
       "      <td>High Recovery</td>\n",
       "    </tr>\n",
       "    <tr>\n",
       "      <th>NC</th>\n",
       "      <td>3532</td>\n",
       "      <td>11044.567568</td>\n",
       "      <td>2824239</td>\n",
       "      <td>None</td>\n",
       "      <td>210632</td>\n",
       "      <td>184422.0</td>\n",
       "      <td>3034871</td>\n",
       "      <td>True</td>\n",
       "      <td>87.556497</td>\n",
       "      <td>High Recovery</td>\n",
       "    </tr>\n",
       "    <tr>\n",
       "      <th>MT</th>\n",
       "      <td>180</td>\n",
       "      <td>717.000000</td>\n",
       "      <td>330087</td>\n",
       "      <td>None</td>\n",
       "      <td>13071</td>\n",
       "      <td>9256.0</td>\n",
       "      <td>343158</td>\n",
       "      <td>False</td>\n",
       "      <td>70.813251</td>\n",
       "      <td>High Recovery</td>\n",
       "    </tr>\n",
       "  </tbody>\n",
       "</table>\n",
       "</div>"
      ],
      "text/plain": [
       "       death  hospitalized  negative pending  positive  recovered    total  \\\n",
       "state                                                                        \n",
       "WY        50    272.000000     95212    None      5948     4791.0   101160   \n",
       "NE       478   2315.000000    410594    None     45044    33198.0   455638   \n",
       "ND       191    859.000000    219646    None     21846    17938.0   241492   \n",
       "NC      3532  11044.567568   2824239    None    210632   184422.0  3034871   \n",
       "MT       180    717.000000    330087    None     13071     9256.0   343158   \n",
       "\n",
       "      greater_than_MT  recovery_rate recovery_group  \n",
       "state                                                \n",
       "WY              False      80.548083  High Recovery  \n",
       "NE               True      73.701270  High Recovery  \n",
       "ND              False      82.111142  High Recovery  \n",
       "NC               True      87.556497  High Recovery  \n",
       "MT              False      70.813251  High Recovery  "
      ]
     },
     "execution_count": 146,
     "metadata": {},
     "output_type": "execute_result"
    }
   ],
   "source": [
    "covid_data['recovery_rate']= covid_data['recovered']/covid_data['positive']*100\n",
    "\n",
    "\n",
    "recovery_groups = [ covid_data['recovery_rate'] < 25 , \n",
    "             ((covid_data['recovery_rate'] >= 25) & (covid_data['recovery_rate'] <= 50)),\n",
    "            ((covid_data['recovery_rate'] >= 50))]\n",
    "              \n",
    "categories = ['Low Recovery','Moderate Recovery','High Recovery']\n",
    "\n",
    "covid_data['recovery_group'] = np.select(recovery_groups, categories)\n",
    "covid_data.head()"
   ]
  },
  {
   "cell_type": "markdown",
   "metadata": {},
   "source": [
    "# Plotting pandas using IRIS dataset"
   ]
  },
  {
   "cell_type": "markdown",
   "metadata": {},
   "source": [
    "#### Note: This problem makes use of the iris data set and depends upon your having completed the previous problem, so please do that first.\n"
   ]
  },
  {
   "cell_type": "code",
   "execution_count": 52,
   "metadata": {},
   "outputs": [
    {
     "data": {
      "text/html": [
       "<div>\n",
       "<style scoped>\n",
       "    .dataframe tbody tr th:only-of-type {\n",
       "        vertical-align: middle;\n",
       "    }\n",
       "\n",
       "    .dataframe tbody tr th {\n",
       "        vertical-align: top;\n",
       "    }\n",
       "\n",
       "    .dataframe thead th {\n",
       "        text-align: right;\n",
       "    }\n",
       "</style>\n",
       "<table border=\"1\" class=\"dataframe\">\n",
       "  <thead>\n",
       "    <tr style=\"text-align: right;\">\n",
       "      <th></th>\n",
       "      <th>SepalLength</th>\n",
       "      <th>SepalWidth</th>\n",
       "      <th>PetalLength</th>\n",
       "      <th>PetalWidth</th>\n",
       "      <th>Name</th>\n",
       "    </tr>\n",
       "  </thead>\n",
       "  <tbody>\n",
       "    <tr>\n",
       "      <th>0</th>\n",
       "      <td>5.1</td>\n",
       "      <td>3.5</td>\n",
       "      <td>1.4</td>\n",
       "      <td>0.2</td>\n",
       "      <td>Iris-setosa</td>\n",
       "    </tr>\n",
       "    <tr>\n",
       "      <th>1</th>\n",
       "      <td>4.9</td>\n",
       "      <td>3.0</td>\n",
       "      <td>1.4</td>\n",
       "      <td>0.2</td>\n",
       "      <td>Iris-setosa</td>\n",
       "    </tr>\n",
       "    <tr>\n",
       "      <th>2</th>\n",
       "      <td>4.7</td>\n",
       "      <td>3.2</td>\n",
       "      <td>1.3</td>\n",
       "      <td>0.2</td>\n",
       "      <td>Iris-setosa</td>\n",
       "    </tr>\n",
       "    <tr>\n",
       "      <th>3</th>\n",
       "      <td>4.6</td>\n",
       "      <td>3.1</td>\n",
       "      <td>1.5</td>\n",
       "      <td>0.2</td>\n",
       "      <td>Iris-setosa</td>\n",
       "    </tr>\n",
       "    <tr>\n",
       "      <th>4</th>\n",
       "      <td>5.0</td>\n",
       "      <td>3.6</td>\n",
       "      <td>1.4</td>\n",
       "      <td>0.2</td>\n",
       "      <td>Iris-setosa</td>\n",
       "    </tr>\n",
       "  </tbody>\n",
       "</table>\n",
       "</div>"
      ],
      "text/plain": [
       "   SepalLength  SepalWidth  PetalLength  PetalWidth         Name\n",
       "0          5.1         3.5          1.4         0.2  Iris-setosa\n",
       "1          4.9         3.0          1.4         0.2  Iris-setosa\n",
       "2          4.7         3.2          1.3         0.2  Iris-setosa\n",
       "3          4.6         3.1          1.5         0.2  Iris-setosa\n",
       "4          5.0         3.6          1.4         0.2  Iris-setosa"
      ]
     },
     "execution_count": 52,
     "metadata": {},
     "output_type": "execute_result"
    }
   ],
   "source": [
    "iris = pd.read_csv('/Users/ashok/Downloads/iris.csv')\n",
    "iris.head()"
   ]
  },
  {
   "cell_type": "markdown",
   "metadata": {},
   "source": [
    "#### Q22: Use the built-in pandas plotting tools to make a box-and-whisker plot showing the distribution of petal ratio and sepal ratio for each of the three species. Your plot should have two subplots, one for petal ratio and one for sepal ratio. You may choose the details of your plots (i.e., how to handle outliers, displaying mean vs median, etc) however you think is best. Please include labels on your x- and y-axes and give an appropriate title to your plot."
   ]
  },
  {
   "cell_type": "code",
   "execution_count": 149,
   "metadata": {},
   "outputs": [
    {
     "data": {
      "image/png": "[encoded data removed]",
      "text/plain": [
       "<Figure size 648x432 with 2 Axes>"
      ]
     },
     "metadata": {
      "needs_background": "light"
     },
     "output_type": "display_data"
    }
   ],
   "source": [
    "import matplotlib.pyplot as plt\n",
    "iris['petal_ratio'] = iris['PetalLength']/ iris['PetalWidth']\n",
    "iris['sepal_ratio'] = iris['SepalLength']/ iris['SepalWidth']\n",
    "iris.head(5)\n",
    "\n",
    "\n",
    "\n",
    "box = iris.boxplot(by='Name',column=['petal_ratio', 'sepal_ratio'], figsize=(9,6))\n",
    "[ax_tmp.set_xlabel('Species') for ax_tmp in np.asarray(box).reshape(-1)]\n",
    "[ax_tmp.set_ylabel('Ratio') for ax_tmp in np.asarray(box).reshape(-1)]\n",
    "figure = np.asarray(box).reshape(-1)[0].get_figure()\n",
    "figure.suptitle('Petal & Sepal ratio for species')\n",
    "plt.show()"
   ]
  },
  {
   "cell_type": "markdown",
   "metadata": {},
   "source": [
    "#### Q23: Use the built-in pandas plotting tools to make a scatter matrix plot for the four original features (petal width, petal length, sepal width and sepal length). Each point in the scatter plot should be colored according to its species. Hint: see the documentation at https://pandas.pydata.org/pandas-docs/stable/visualization.html# scatter-matrix-plot to get started."
   ]
  },
  {
   "cell_type": "code",
   "execution_count": 55,
   "metadata": {},
   "outputs": [
    {
     "data": {
      "image/png": "[encoded data removed]",
      "text/plain": [
       "<Figure size 432x288 with 2 Axes>"
      ]
     },
     "metadata": {
      "needs_background": "light"
     },
     "output_type": "display_data"
    }
   ],
   "source": [
    "iris[\"species\"] = pd.Categorical(iris['Name'])\n",
    "\n",
    "iris.plot.scatter(x=\"PetalLength\", y=\"PetalWidth\", c=\"species\", cmap=\"viridis\", s=50);"
   ]
  },
  {
   "cell_type": "code",
   "execution_count": 57,
   "metadata": {},
   "outputs": [
    {
     "data": {
      "image/png": "[encoded data removed]",
      "text/plain": [
       "<Figure size 432x288 with 2 Axes>"
      ]
     },
     "metadata": {
      "needs_background": "light"
     },
     "output_type": "display_data"
    }
   ],
   "source": [
    "iris[\"species\"] = pd.Categorical(iris['Name'])\n",
    "\n",
    "iris.plot.scatter(x=\"SepalLength\", y=\"SepalWidth\", c=\"species\", cmap=\"viridis\", s=50);"
   ]
  },
  {
   "cell_type": "markdown",
   "metadata": {},
   "source": [
    "## Load the stockprice dataset"
   ]
  },
  {
   "cell_type": "code",
   "execution_count": 5,
   "metadata": {},
   "outputs": [
    {
     "data": {
      "text/html": [
       "<div>\n",
       "<style scoped>\n",
       "    .dataframe tbody tr th:only-of-type {\n",
       "        vertical-align: middle;\n",
       "    }\n",
       "\n",
       "    .dataframe tbody tr th {\n",
       "        vertical-align: top;\n",
       "    }\n",
       "\n",
       "    .dataframe thead th {\n",
       "        text-align: right;\n",
       "    }\n",
       "</style>\n",
       "<table border=\"1\" class=\"dataframe\">\n",
       "  <thead>\n",
       "    <tr style=\"text-align: right;\">\n",
       "      <th></th>\n",
       "      <th>Date</th>\n",
       "      <th>Amazon</th>\n",
       "      <th>Google</th>\n",
       "      <th>Facebook</th>\n",
       "    </tr>\n",
       "  </thead>\n",
       "  <tbody>\n",
       "    <tr>\n",
       "      <th>0</th>\n",
       "      <td>5/1/18</td>\n",
       "      <td>927.800</td>\n",
       "      <td>901.94</td>\n",
       "      <td>151.74</td>\n",
       "    </tr>\n",
       "    <tr>\n",
       "      <th>1</th>\n",
       "      <td>5/2/18</td>\n",
       "      <td>946.645</td>\n",
       "      <td>909.62</td>\n",
       "      <td>153.34</td>\n",
       "    </tr>\n",
       "    <tr>\n",
       "      <th>2</th>\n",
       "      <td>5/3/18</td>\n",
       "      <td>946.000</td>\n",
       "      <td>914.86</td>\n",
       "      <td>153.60</td>\n",
       "    </tr>\n",
       "    <tr>\n",
       "      <th>3</th>\n",
       "      <td>5/4/18</td>\n",
       "      <td>944.750</td>\n",
       "      <td>926.07</td>\n",
       "      <td>150.17</td>\n",
       "    </tr>\n",
       "    <tr>\n",
       "      <th>4</th>\n",
       "      <td>5/7/18</td>\n",
       "      <td>940.520</td>\n",
       "      <td>933.54</td>\n",
       "      <td>151.45</td>\n",
       "    </tr>\n",
       "  </tbody>\n",
       "</table>\n",
       "</div>"
      ],
      "text/plain": [
       "     Date   Amazon  Google  Facebook\n",
       "0  5/1/18  927.800  901.94    151.74\n",
       "1  5/2/18  946.645  909.62    153.34\n",
       "2  5/3/18  946.000  914.86    153.60\n",
       "3  5/4/18  944.750  926.07    150.17\n",
       "4  5/7/18  940.520  933.54    151.45"
      ]
     },
     "execution_count": 5,
     "metadata": {},
     "output_type": "execute_result"
    }
   ],
   "source": [
    "stock = pd.read_csv('/Users/ashok/Downloads/timeseries_stockprice.csv', header=0)\n",
    "stock.head()"
   ]
  },
  {
   "cell_type": "markdown",
   "metadata": {},
   "source": [
    "#### Q24-Plotting a single series\n",
    "\n",
    "To plot a single series, such as the closing stock price for Amazon for each date, you can simple designate the x-axis values as Date and the y-axis values as Amazon and set the kind parameter to line."
   ]
  },
  {
   "cell_type": "code",
   "execution_count": 29,
   "metadata": {
    "scrolled": true
   },
   "outputs": [
    {
     "data": {
      "text/plain": [
       "Text(0, 0.5, 'Stock price')"
      ]
     },
     "execution_count": 29,
     "metadata": {},
     "output_type": "execute_result"
    },
    {
     "data": {
      "image/png": "[encoded data removed]",
      "text/plain": [
       "<Figure size 432x288 with 1 Axes>"
      ]
     },
     "metadata": {
      "needs_background": "light"
     },
     "output_type": "display_data"
    }
   ],
   "source": [
    "import matplotlib.pyplot as plt\n",
    "\n",
    "\n",
    "stock.plot(x = \"Date\", y = \"Amazon\")\n",
    "plt.title('Amazon stock price')\n",
    "plt.xlabel('Time period')\n",
    "plt.ylabel('Stock price')"
   ]
  },
  {
   "cell_type": "markdown",
   "metadata": {},
   "source": [
    "#### Q25-Plotting two series\n",
    "\n",
    "When plotting two series, set the y-axis values to a list containing the two column names, each being a data series."
   ]
  },
  {
   "cell_type": "code",
   "execution_count": 28,
   "metadata": {},
   "outputs": [
    {
     "data": {
      "text/plain": [
       "Text(0, 0.5, 'Stock price')"
      ]
     },
     "execution_count": 28,
     "metadata": {},
     "output_type": "execute_result"
    },
    {
     "data": {
      "image/png": "[encoded data removed]",
      "text/plain": [
       "<Figure size 432x288 with 1 Axes>"
      ]
     },
     "metadata": {
      "needs_background": "light"
     },
     "output_type": "display_data"
    }
   ],
   "source": [
    "stock.plot(x = \"Date\", y = [\"Amazon\", \"Google\"])\n",
    "plt.xlabel('Time period')\n",
    "plt.ylabel('Stock price')\n"
   ]
  },
  {
   "cell_type": "markdown",
   "metadata": {},
   "source": [
    "#### Q26- Plotting three series\n",
    "\n",
    "When plotting three series, set the y-axis values to a list containing the three column names, each being a data series."
   ]
  },
  {
   "cell_type": "code",
   "execution_count": 27,
   "metadata": {},
   "outputs": [
    {
     "data": {
      "text/plain": [
       "Text(0, 0.5, 'Stock price')"
      ]
     },
     "execution_count": 27,
     "metadata": {},
     "output_type": "execute_result"
    },
    {
     "data": {
      "image/png": "[encoded data removed]",
      "text/plain": [
       "<Figure size 432x288 with 1 Axes>"
      ]
     },
     "metadata": {
      "needs_background": "light"
     },
     "output_type": "display_data"
    }
   ],
   "source": [
    "stock.plot(x = \"Date\", y = [\"Amazon\", \"Google\", \"Facebook\"])\n",
    "plt.xlabel('Time period')\n",
    "plt.ylabel('Stock price')\n"
   ]
  },
  {
   "cell_type": "markdown",
   "metadata": {},
   "source": [
    "## Load the following dataset"
   ]
  },
  {
   "cell_type": "code",
   "execution_count": 38,
   "metadata": {},
   "outputs": [
    {
     "data": {
      "text/html": [
       "<div>\n",
       "<style scoped>\n",
       "    .dataframe tbody tr th:only-of-type {\n",
       "        vertical-align: middle;\n",
       "    }\n",
       "\n",
       "    .dataframe tbody tr th {\n",
       "        vertical-align: top;\n",
       "    }\n",
       "\n",
       "    .dataframe thead th {\n",
       "        text-align: right;\n",
       "    }\n",
       "</style>\n",
       "<table border=\"1\" class=\"dataframe\">\n",
       "  <thead>\n",
       "    <tr style=\"text-align: right;\">\n",
       "      <th></th>\n",
       "      <th>Rank</th>\n",
       "      <th>Country</th>\n",
       "      <th>Average_salary</th>\n",
       "      <th>Pre_Salary</th>\n",
       "      <th>Grad_Jobs</th>\n",
       "      <th>PhD</th>\n",
       "      <th>Avg_Age_Students</th>\n",
       "      <th>Avg_Work_Experience</th>\n",
       "      <th>Tuition</th>\n",
       "      <th>Duration</th>\n",
       "    </tr>\n",
       "    <tr>\n",
       "      <th>School</th>\n",
       "      <th></th>\n",
       "      <th></th>\n",
       "      <th></th>\n",
       "      <th></th>\n",
       "      <th></th>\n",
       "      <th></th>\n",
       "      <th></th>\n",
       "      <th></th>\n",
       "      <th></th>\n",
       "      <th></th>\n",
       "    </tr>\n",
       "  </thead>\n",
       "  <tbody>\n",
       "    <tr>\n",
       "      <th>Chicago (Booth)</th>\n",
       "      <td>1</td>\n",
       "      <td>US</td>\n",
       "      <td>113217</td>\n",
       "      <td>63</td>\n",
       "      <td>93</td>\n",
       "      <td>96</td>\n",
       "      <td>27</td>\n",
       "      <td>60</td>\n",
       "      <td>106800</td>\n",
       "      <td>21</td>\n",
       "    </tr>\n",
       "    <tr>\n",
       "      <th>Dartmouth (Tuck)</th>\n",
       "      <td>2</td>\n",
       "      <td>US</td>\n",
       "      <td>115143</td>\n",
       "      <td>62</td>\n",
       "      <td>97</td>\n",
       "      <td>100</td>\n",
       "      <td>28</td>\n",
       "      <td>60</td>\n",
       "      <td>106980</td>\n",
       "      <td>21</td>\n",
       "    </tr>\n",
       "    <tr>\n",
       "      <th>Virginia (Darden)</th>\n",
       "      <td>3</td>\n",
       "      <td>US</td>\n",
       "      <td>104478</td>\n",
       "      <td>67</td>\n",
       "      <td>95</td>\n",
       "      <td>97</td>\n",
       "      <td>27</td>\n",
       "      <td>60</td>\n",
       "      <td>107800</td>\n",
       "      <td>21</td>\n",
       "    </tr>\n",
       "    <tr>\n",
       "      <th>Harvard</th>\n",
       "      <td>4</td>\n",
       "      <td>US</td>\n",
       "      <td>121785</td>\n",
       "      <td>44</td>\n",
       "      <td>97</td>\n",
       "      <td>94</td>\n",
       "      <td>27</td>\n",
       "      <td>48</td>\n",
       "      <td>107000</td>\n",
       "      <td>18</td>\n",
       "    </tr>\n",
       "    <tr>\n",
       "      <th>Columbia</th>\n",
       "      <td>5</td>\n",
       "      <td>US</td>\n",
       "      <td>113340</td>\n",
       "      <td>55</td>\n",
       "      <td>98</td>\n",
       "      <td>97</td>\n",
       "      <td>28</td>\n",
       "      <td>60</td>\n",
       "      <td>111736</td>\n",
       "      <td>20</td>\n",
       "    </tr>\n",
       "  </tbody>\n",
       "</table>\n",
       "</div>"
      ],
      "text/plain": [
       "                   Rank Country  Average_salary  Pre_Salary  Grad_Jobs  PhD  \\\n",
       "School                                                                        \n",
       "Chicago (Booth)       1      US          113217          63         93   96   \n",
       "Dartmouth (Tuck)      2      US          115143          62         97  100   \n",
       "Virginia (Darden)     3      US          104478          67         95   97   \n",
       "Harvard               4      US          121785          44         97   94   \n",
       "Columbia              5      US          113340          55         98   97   \n",
       "\n",
       "                   Avg_Age_Students  Avg_Work_Experience  Tuition  Duration  \n",
       "School                                                                       \n",
       "Chicago (Booth)                  27                   60   106800        21  \n",
       "Dartmouth (Tuck)                 28                   60   106980        21  \n",
       "Virginia (Darden)                27                   60   107800        21  \n",
       "Harvard                          27                   48   107000        18  \n",
       "Columbia                         28                   60   111736        20  "
      ]
     },
     "execution_count": 38,
     "metadata": {},
     "output_type": "execute_result"
    }
   ],
   "source": [
    "import pandas as pd\n",
    "mydata = pd.read_csv(\"/Users/ashok/Downloads/mba.csv\", header=0, index_col =\"School\") #add header and index\n",
    "mydata.head()"
   ]
  },
  {
   "cell_type": "markdown",
   "metadata": {},
   "source": [
    "#### Q27-Plot the Box plot using both approach available in pandas: \n",
    "\n",
    "    * .plot\n",
    "    * .boxplot"
   ]
  },
  {
   "cell_type": "code",
   "execution_count": 155,
   "metadata": {},
   "outputs": [
    {
     "data": {
      "image/png": "[encoded data removed]",
      "text/plain": [
       "<Figure size 432x288 with 1 Axes>"
      ]
     },
     "metadata": {
      "needs_background": "light"
     },
     "output_type": "display_data"
    }
   ],
   "source": [
    "mydata.plot.box();"
   ]
  },
  {
   "cell_type": "code",
   "execution_count": 157,
   "metadata": {},
   "outputs": [
    {
     "data": {
      "text/plain": [
       "<AxesSubplot:>"
      ]
     },
     "execution_count": 157,
     "metadata": {},
     "output_type": "execute_result"
    },
    {
     "data": {
      "image/png": "[encoded data removed]",
      "text/plain": [
       "<Figure size 432x288 with 1 Axes>"
      ]
     },
     "metadata": {
      "needs_background": "light"
     },
     "output_type": "display_data"
    }
   ],
   "source": [
    "mydata.boxplot()"
   ]
  },
  {
   "cell_type": "markdown",
   "metadata": {},
   "source": [
    "#### Q28- creat a box plot of two variables: \"the average student\" and \"average work experience\" in one graph (side by side)"
   ]
  },
  {
   "cell_type": "code",
   "execution_count": 43,
   "metadata": {},
   "outputs": [
    {
     "data": {
      "image/png": "[encoded data removed]",
      "text/plain": [
       "<Figure size 432x288 with 1 Axes>"
      ]
     },
     "metadata": {
      "needs_background": "light"
     },
     "output_type": "display_data"
    }
   ],
   "source": [
    "box_plot = mydata.boxplot(column=[\"Avg_Age_Students\", \"Avg_Work_Experience\"])"
   ]
  },
  {
   "cell_type": "markdown",
   "metadata": {},
   "source": [
    "#### Q29- Formatting with .boxplot().\n",
    "change the following parameters for the previous question as grid=False and fontsize=14:"
   ]
  },
  {
   "cell_type": "code",
   "execution_count": 47,
   "metadata": {},
   "outputs": [
    {
     "data": {
      "image/png": "[encoded data removed]",
      "text/plain": [
       "<Figure size 432x288 with 1 Axes>"
      ]
     },
     "metadata": {
      "needs_background": "light"
     },
     "output_type": "display_data"
    }
   ],
   "source": [
    "box_plot = mydata.boxplot(column=[\"Avg_Age_Students\", \"Avg_Work_Experience\"], grid=False, fontsize=14)"
   ]
  },
  {
   "cell_type": "markdown",
   "metadata": {},
   "source": [
    "#### Q30-Histograms\n",
    "plot the histogram of Tuitions with proper bins"
   ]
  },
  {
   "cell_type": "code",
   "execution_count": 49,
   "metadata": {},
   "outputs": [
    {
     "data": {
      "text/plain": [
       "array([[<AxesSubplot:title={'center':'Tuition'}>]], dtype=object)"
      ]
     },
     "execution_count": 49,
     "metadata": {},
     "output_type": "execute_result"
    },
    {
     "data": {
      "image/png": "[encoded data removed]",
      "text/plain": [
       "<Figure size 432x288 with 1 Axes>"
      ]
     },
     "metadata": {
      "needs_background": "light"
     },
     "output_type": "display_data"
    }
   ],
   "source": [
    "mydata.hist(column = [\"Tuition\"], bins = 15)"
   ]
  },
  {
   "cell_type": "markdown",
   "metadata": {},
   "source": [
    "#### Q31-Scatter plots\n",
    "plot the scatter plot using Rank (x-axis) and Grad_job (y-axis) and set the proper xlim"
   ]
  },
  {
   "cell_type": "code",
   "execution_count": 50,
   "metadata": {},
   "outputs": [
    {
     "data": {
      "text/plain": [
       "(-3.0, 30.0)"
      ]
     },
     "execution_count": 50,
     "metadata": {},
     "output_type": "execute_result"
    },
    {
     "data": {
      "image/png": "[encoded data removed]",
      "text/plain": [
       "<Figure size 432x288 with 1 Axes>"
      ]
     },
     "metadata": {
      "needs_background": "light"
     },
     "output_type": "display_data"
    }
   ],
   "source": [
    "scatter_plot = mydata.plot.scatter(x=\"Rank\", y=\"Grad_Jobs\", color=\"DarkBlue\", label=\"Group 1\")\n",
    "scatter_plot.set_xlim(-3, 30)"
   ]
  },
  {
   "cell_type": "markdown",
   "metadata": {},
   "source": [
    "#### Q32-Bar charts\n",
    "plot horrizontal bar graph for Tuition and assign a proper title for your graph - sort your bar graphs in ascending order"
   ]
  },
  {
   "cell_type": "code",
   "execution_count": 59,
   "metadata": {},
   "outputs": [
    {
     "data": {
      "text/plain": [
       "<AxesSubplot:title={'center':'Tuition'}, ylabel='School'>"
      ]
     },
     "execution_count": 59,
     "metadata": {},
     "output_type": "execute_result"
    },
    {
     "data": {
      "image/png": "[encoded data removed]",
      "text/plain": [
       "<Figure size 432x288 with 1 Axes>"
      ]
     },
     "metadata": {
      "needs_background": "light"
     },
     "output_type": "display_data"
    }
   ],
   "source": [
    "mydata.sort_values(by = [\"Tuition\"], ascending = True).plot.barh(y = 'Tuition', title = \"Tuition\")"
   ]
  },
  {
   "cell_type": "markdown",
   "metadata": {},
   "source": [
    "### Q33-Refine the bar chart with a few aesthetic elements.\n",
    "\n",
    "\n",
    "* The legend parameter is set to False to remove the redundant legend.\n",
    "* The color parameter can set the color values using RGB. RGB is a way of making colors. You have to provide an amount of red, green and blue + the transparency and it returns a color.\n",
    "* The edgecolor parameter allows you to set the border of the bars."
   ]
  },
  {
   "cell_type": "code",
   "execution_count": 58,
   "metadata": {},
   "outputs": [
    {
     "data": {
      "text/plain": [
       "<AxesSubplot:title={'center':'Tuition'}, ylabel='School'>"
      ]
     },
     "execution_count": 58,
     "metadata": {},
     "output_type": "execute_result"
    },
    {
     "data": {
      "image/png": "[encoded data removed]",
      "text/plain": [
       "<Figure size 432x288 with 1 Axes>"
      ]
     },
     "metadata": {
      "needs_background": "light"
     },
     "output_type": "display_data"
    }
   ],
   "source": [
    "from matplotlib import rcParams\n",
    "rcParams.update({'figure.autolayout': True}) \n",
    "mydata.sort_values(by = [\"Tuition\"], ascending=True).plot.barh( y = \"Tuition\", title=\"Tuition\", color=(0.1,0.3,0.5,0.7), edgecolor='red', legend=False)"
   ]
  },
  {
   "cell_type": "code",
   "execution_count": null,
   "metadata": {},
   "outputs": [],
   "source": []
  }
 ],
 "metadata": {
  "anaconda-cloud": {},
  "kernel_info": {
   "name": "python3"
  },
  "kernelspec": {
   "display_name": "Python 3 (ipykernel)",
   "language": "python",
   "name": "python3"
  },
  "language_info": {
   "codemirror_mode": {
    "name": "ipython",
    "version": 3
   },
   "file_extension": ".py",
   "mimetype": "text/x-python",
   "name": "python",
   "nbconvert_exporter": "python",
   "pygments_lexer": "ipython3",
   "version": "3.9.12"
  },
  "nteract": {
   "version": "0.2.0"
  }
 },
 "nbformat": 4,
 "nbformat_minor": 4
}
